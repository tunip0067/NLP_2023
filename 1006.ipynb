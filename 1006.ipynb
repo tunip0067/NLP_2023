{
  "nbformat": 4,
  "nbformat_minor": 0,
  "metadata": {
    "colab": {
      "provenance": [],
      "authorship_tag": "ABX9TyPiIqJQvV07nn16nhYwgH9f",
      "include_colab_link": true
    },
    "kernelspec": {
      "name": "python3",
      "display_name": "Python 3"
    },
    "language_info": {
      "name": "python"
    }
  },
  "cells": [
    {
      "cell_type": "markdown",
      "metadata": {
        "id": "view-in-github",
        "colab_type": "text"
      },
      "source": [
        "<a href=\"https://colab.research.google.com/github/tunip0067/NLP_2023/blob/main/1006.ipynb\" target=\"_parent\"><img src=\"https://colab.research.google.com/assets/colab-badge.svg\" alt=\"Open In Colab\"/></a>"
      ]
    },
    {
      "cell_type": "code",
      "execution_count": 1,
      "metadata": {
        "id": "T9gpoGc7xwiN"
      },
      "outputs": [],
      "source": [
        "def add(a, b):\n",
        "    return a + b"
      ]
    },
    {
      "cell_type": "code",
      "source": [
        "a = 3\n",
        "b = 4\n",
        "c = add(a, b)\n",
        "print(c)"
      ],
      "metadata": {
        "colab": {
          "base_uri": "https://localhost:8080/"
        },
        "id": "PV5jNQMk4Kq9",
        "outputId": "faeb11fd-6cd5-409c-9b89-c4a6c3502495"
      },
      "execution_count": 3,
      "outputs": [
        {
          "output_type": "stream",
          "name": "stdout",
          "text": [
            "7\n"
          ]
        }
      ]
    },
    {
      "cell_type": "code",
      "source": [
        "def add(a, b):\n",
        "    return a+b\n",
        "\n",
        "print(add(3, 4))"
      ],
      "metadata": {
        "colab": {
          "base_uri": "https://localhost:8080/"
        },
        "id": "omX5_dHg4YY0",
        "outputId": "7075cae2-a211-430c-816d-d13d6ea369f3"
      },
      "execution_count": 4,
      "outputs": [
        {
          "output_type": "stream",
          "name": "stdout",
          "text": [
            "7\n"
          ]
        }
      ]
    },
    {
      "cell_type": "code",
      "source": [
        "a = add(3, 4)\n",
        "print(a)"
      ],
      "metadata": {
        "colab": {
          "base_uri": "https://localhost:8080/"
        },
        "id": "KOSlzUcU4bkw",
        "outputId": "9e489815-492f-404c-afd6-484a1d05f873"
      },
      "execution_count": 5,
      "outputs": [
        {
          "output_type": "stream",
          "name": "stdout",
          "text": [
            "7\n"
          ]
        }
      ]
    },
    {
      "cell_type": "code",
      "source": [
        "def say():\n",
        "    return 'Hi'"
      ],
      "metadata": {
        "id": "pSYL4e3g4gfM"
      },
      "execution_count": 7,
      "outputs": []
    },
    {
      "cell_type": "code",
      "source": [
        "a = say()\n",
        "print(a)"
      ],
      "metadata": {
        "colab": {
          "base_uri": "https://localhost:8080/"
        },
        "id": "NvfyPh5E4qEP",
        "outputId": "612d0227-133f-4e45-fc57-27f39b44f8f1"
      },
      "execution_count": 8,
      "outputs": [
        {
          "output_type": "stream",
          "name": "stdout",
          "text": [
            "Hi\n"
          ]
        }
      ]
    },
    {
      "cell_type": "code",
      "source": [
        "def add(a, b):\n",
        "    print(\"%d, %d의 합은 %d입니다.\" % (a, b, a+b))"
      ],
      "metadata": {
        "id": "Ua9nHtFx40FG"
      },
      "execution_count": 9,
      "outputs": []
    },
    {
      "cell_type": "code",
      "source": [
        "add(3, 4)"
      ],
      "metadata": {
        "colab": {
          "base_uri": "https://localhost:8080/"
        },
        "id": "pzkHHFVg46MO",
        "outputId": "3e2a6f33-50d6-4501-a116-89552bfa1705"
      },
      "execution_count": 10,
      "outputs": [
        {
          "output_type": "stream",
          "name": "stdout",
          "text": [
            "3, 4의 합은 7입니다.\n"
          ]
        }
      ]
    },
    {
      "cell_type": "code",
      "source": [
        "a = add(3, 4)\n",
        "print(a)"
      ],
      "metadata": {
        "colab": {
          "base_uri": "https://localhost:8080/"
        },
        "id": "sXukWChq5IoR",
        "outputId": "d7f135c6-5284-4cfb-a15a-38258943e1d1"
      },
      "execution_count": 12,
      "outputs": [
        {
          "output_type": "stream",
          "name": "stdout",
          "text": [
            "3, 4의 합은 7입니다.\n",
            "None\n"
          ]
        }
      ]
    },
    {
      "cell_type": "code",
      "source": [
        "def say():\n",
        "    print('Hi')\n",
        "say()"
      ],
      "metadata": {
        "colab": {
          "base_uri": "https://localhost:8080/"
        },
        "id": "RbOc4a035MzF",
        "outputId": "11bc64ab-6e6a-49d8-d134-0b5d4cc4dbf1"
      },
      "execution_count": 14,
      "outputs": [
        {
          "output_type": "stream",
          "name": "stdout",
          "text": [
            "Hi\n"
          ]
        }
      ]
    },
    {
      "cell_type": "code",
      "source": [
        "def sub(a, b):\n",
        "    return a - b\n",
        "\n",
        "result = sub(a=7, b=3)\n",
        "print(result)"
      ],
      "metadata": {
        "colab": {
          "base_uri": "https://localhost:8080/"
        },
        "id": "UGi4Wxay5xNl",
        "outputId": "69690de1-9c03-4811-f6f6-3818c2b9d135"
      },
      "execution_count": 16,
      "outputs": [
        {
          "output_type": "stream",
          "name": "stdout",
          "text": [
            "4\n"
          ]
        }
      ]
    },
    {
      "cell_type": "code",
      "source": [
        "result = sub(b=5, a=3)\n",
        "print(result)"
      ],
      "metadata": {
        "colab": {
          "base_uri": "https://localhost:8080/"
        },
        "id": "VeRDptHT6PPg",
        "outputId": "b2684cce-c8ee-4e80-edb9-6c354e1133fc"
      },
      "execution_count": 17,
      "outputs": [
        {
          "output_type": "stream",
          "name": "stdout",
          "text": [
            "-2\n"
          ]
        }
      ]
    },
    {
      "cell_type": "code",
      "source": [
        "def add_many(*args):\n",
        "    result = 0\n",
        "    for i in args:\n",
        "        result = result + i\n",
        "    return result"
      ],
      "metadata": {
        "id": "BftAGPcH6YV7"
      },
      "execution_count": 19,
      "outputs": []
    },
    {
      "cell_type": "code",
      "source": [
        "result = add_many(1,2,3)\n",
        "print(result)\n",
        "\n",
        "result = add_many(1,2,3,4,5,6,7,8,9,10)\n",
        "print(result)"
      ],
      "metadata": {
        "colab": {
          "base_uri": "https://localhost:8080/"
        },
        "id": "GoEg7UID6j3z",
        "outputId": "2c5432ed-ed5a-44d4-8945-34ff30532158"
      },
      "execution_count": 20,
      "outputs": [
        {
          "output_type": "stream",
          "name": "stdout",
          "text": [
            "6\n",
            "55\n"
          ]
        }
      ]
    },
    {
      "cell_type": "code",
      "source": [
        "def add_mul(choice, *args):\n",
        "    if choice == \"add\":\n",
        "        result = 0\n",
        "        for i in args:\n",
        "            result = result + i\n",
        "    elif choice == \"mul\":\n",
        "        result = 1\n",
        "        for i in args:\n",
        "            result = result * i\n",
        "    return result"
      ],
      "metadata": {
        "id": "CDfgRLrS6pfM"
      },
      "execution_count": 21,
      "outputs": []
    },
    {
      "cell_type": "code",
      "source": [
        "result = add_mul('add', 1,2,3,4,5)\n",
        "print(result)\n",
        "\n",
        "result = add_mul('mul', 1,2,3,4,5)\n",
        "print(result)"
      ],
      "metadata": {
        "colab": {
          "base_uri": "https://localhost:8080/"
        },
        "id": "DdR1nxNC69v5",
        "outputId": "8a815481-090a-4e4f-c3fa-12480836639a"
      },
      "execution_count": 23,
      "outputs": [
        {
          "output_type": "stream",
          "name": "stdout",
          "text": [
            "15\n",
            "120\n"
          ]
        }
      ]
    },
    {
      "cell_type": "code",
      "source": [
        "def print_kwargs(**kwargs):\n",
        "    print(kwargs)"
      ],
      "metadata": {
        "id": "eVsOkxMQ72m9"
      },
      "execution_count": 24,
      "outputs": []
    },
    {
      "cell_type": "code",
      "source": [
        "print_kwargs(a=1)\n",
        "print_kwargs(name='foo', age=3)"
      ],
      "metadata": {
        "colab": {
          "base_uri": "https://localhost:8080/"
        },
        "id": "ujItADOi768S",
        "outputId": "5cbbd5bb-2b72-463b-bfae-e88fae77d697"
      },
      "execution_count": 25,
      "outputs": [
        {
          "output_type": "stream",
          "name": "stdout",
          "text": [
            "{'a': 1}\n",
            "{'name': 'foo', 'age': 3}\n"
          ]
        }
      ]
    },
    {
      "cell_type": "code",
      "source": [
        "def add_and_mul(a,b):\n",
        "    return a+b, a*b\n",
        "result = add_and_mul(3,4)\n",
        "print(result)"
      ],
      "metadata": {
        "colab": {
          "base_uri": "https://localhost:8080/"
        },
        "id": "dFonsgoL8T49",
        "outputId": "a9d0fa04-d7b4-4064-90ab-36204dd82a31"
      },
      "execution_count": 29,
      "outputs": [
        {
          "output_type": "stream",
          "name": "stdout",
          "text": [
            "(7, 12)\n"
          ]
        }
      ]
    },
    {
      "cell_type": "code",
      "source": [
        "def add_and_mul(a,b):\n",
        "    return a+b\n",
        "    return a*b\n",
        "\n",
        "result = add_and_mul(2, 3)\n",
        "print(result)"
      ],
      "metadata": {
        "colab": {
          "base_uri": "https://localhost:8080/"
        },
        "id": "8xqXLCtg8qds",
        "outputId": "0eac1207-b553-4e10-e1dc-705588efe774"
      },
      "execution_count": 31,
      "outputs": [
        {
          "output_type": "stream",
          "name": "stdout",
          "text": [
            "5\n"
          ]
        }
      ]
    },
    {
      "cell_type": "code",
      "source": [
        "def say_nick(nick):\n",
        "    if nick == \"바보\":\n",
        "        return\n",
        "    print(\"나의 별명은 %s 입니다.\" % nick)\n",
        "\n",
        "say_nick('야호')"
      ],
      "metadata": {
        "colab": {
          "base_uri": "https://localhost:8080/"
        },
        "id": "7iaBvHyS_nEq",
        "outputId": "2b698da3-fb10-47bf-8405-a4b24f873986"
      },
      "execution_count": 34,
      "outputs": [
        {
          "output_type": "stream",
          "name": "stdout",
          "text": [
            "나의 별명은 야호 입니다.\n"
          ]
        }
      ]
    },
    {
      "cell_type": "code",
      "source": [
        "say_nick('바보')"
      ],
      "metadata": {
        "id": "vkhwRY4kACST"
      },
      "execution_count": 35,
      "outputs": []
    },
    {
      "cell_type": "code",
      "source": [
        "def say_myself(name, age, man=True):\n",
        "    print(\"나의 이름은 %s 입니다.\" % name)\n",
        "    print(\"나이는 %d살입니다.\" % age)\n",
        "    if man:\n",
        "        print(\"남자입니다.\")\n",
        "    else:\n",
        "        print(\"여자입니다.\")"
      ],
      "metadata": {
        "id": "Xx_TZbh5AOgX"
      },
      "execution_count": 36,
      "outputs": []
    },
    {
      "cell_type": "code",
      "source": [
        "say_myself(\"박응용\", 27)"
      ],
      "metadata": {
        "colab": {
          "base_uri": "https://localhost:8080/"
        },
        "id": "-aMpZl6vATkS",
        "outputId": "9cdf5363-5675-4781-bbff-fddd84ee4f2e"
      },
      "execution_count": 37,
      "outputs": [
        {
          "output_type": "stream",
          "name": "stdout",
          "text": [
            "나의 이름은 박응용 입니다.\n",
            "나이는 27살입니다.\n",
            "남자입니다.\n"
          ]
        }
      ]
    },
    {
      "cell_type": "code",
      "source": [
        "say_myself(\"박응용\", 27, True)"
      ],
      "metadata": {
        "colab": {
          "base_uri": "https://localhost:8080/"
        },
        "id": "43qVznWsAWIo",
        "outputId": "8b12112a-065f-49f6-8a6e-88bf8eeb8a8f"
      },
      "execution_count": 38,
      "outputs": [
        {
          "output_type": "stream",
          "name": "stdout",
          "text": [
            "나의 이름은 박응용 입니다.\n",
            "나이는 27살입니다.\n",
            "남자입니다.\n"
          ]
        }
      ]
    },
    {
      "cell_type": "code",
      "source": [
        "say_myself(\"박응선\", 27, False)"
      ],
      "metadata": {
        "colab": {
          "base_uri": "https://localhost:8080/"
        },
        "id": "QHXu60JZAYtW",
        "outputId": "9407d69a-3772-4ffd-ad92-67e3e2666c7e"
      },
      "execution_count": 39,
      "outputs": [
        {
          "output_type": "stream",
          "name": "stdout",
          "text": [
            "나의 이름은 박응선 입니다.\n",
            "나이는 27살입니다.\n",
            "여자입니다.\n"
          ]
        }
      ]
    },
    {
      "cell_type": "code",
      "source": [
        "def say_myself(name, man=True, age):\n",
        "    print(\"나의 이름은 %s 입니다.\" % name)\n",
        "    print(\"나이는 %d살입니다.\" % age)\n",
        "    if man:\n",
        "        print(\"남자입니다.\")\n",
        "    else:\n",
        "        print(\"여자입니다.\")\n",
        "say_myself(\"박응용\", 27)\n",
        "\n",
        "#초기화하고 싶은 매개변수는 항상 뒤쪽에 놓아야 한다"
      ],
      "metadata": {
        "colab": {
          "base_uri": "https://localhost:8080/",
          "height": 144
        },
        "id": "sFTHFS4hAcVL",
        "outputId": "0485ebf1-6c76-40e8-a400-55a03c1f20a9"
      },
      "execution_count": 43,
      "outputs": [
        {
          "output_type": "error",
          "ename": "SyntaxError",
          "evalue": "ignored",
          "traceback": [
            "\u001b[0;36m  File \u001b[0;32m\"<ipython-input-43-18d97c5b63cf>\"\u001b[0;36m, line \u001b[0;32m1\u001b[0m\n\u001b[0;31m    def say_myself(name, man=True, age):\u001b[0m\n\u001b[0m                                   ^\u001b[0m\n\u001b[0;31mSyntaxError\u001b[0m\u001b[0;31m:\u001b[0m non-default argument follows default argument\n"
          ]
        }
      ]
    },
    {
      "cell_type": "code",
      "source": [
        "a = 1\n",
        "def vartest(a):\n",
        "    a = a +1\n",
        "\n",
        "vartest(a)\n",
        "print(a)"
      ],
      "metadata": {
        "colab": {
          "base_uri": "https://localhost:8080/"
        },
        "id": "kBwA9trbBgfk",
        "outputId": "252c7c0b-36ed-46d9-d09d-6dbd712f279d"
      },
      "execution_count": 44,
      "outputs": [
        {
          "output_type": "stream",
          "name": "stdout",
          "text": [
            "1\n"
          ]
        }
      ]
    },
    {
      "cell_type": "code",
      "source": [
        "def vartest(hello):\n",
        "    hello = hello + 1"
      ],
      "metadata": {
        "id": "GEgUb5MMBmnY"
      },
      "execution_count": 49,
      "outputs": []
    },
    {
      "cell_type": "code",
      "source": [
        "def vartest(a):\n",
        "    a = a + 1\n",
        "\n",
        "vartest(3)\n",
        "print(a)\n"
      ],
      "metadata": {
        "colab": {
          "base_uri": "https://localhost:8080/"
        },
        "id": "Fnes-4f-BoNE",
        "outputId": "75a35c4e-bb50-4786-d236-f2d9831c0962"
      },
      "execution_count": 46,
      "outputs": [
        {
          "output_type": "stream",
          "name": "stdout",
          "text": [
            "1\n"
          ]
        }
      ]
    },
    {
      "cell_type": "code",
      "source": [
        "a = 1\n",
        "def vartest(a):\n",
        "    a = a +1\n",
        "    return a\n",
        "\n",
        "a = vartest(a)\n",
        "print(a)"
      ],
      "metadata": {
        "colab": {
          "base_uri": "https://localhost:8080/"
        },
        "id": "tEoU4SNmB6_K",
        "outputId": "33ab8d5d-0bff-4123-fbe9-9cf207bcca7b"
      },
      "execution_count": 50,
      "outputs": [
        {
          "output_type": "stream",
          "name": "stdout",
          "text": [
            "2\n"
          ]
        }
      ]
    },
    {
      "cell_type": "code",
      "source": [
        "a = 1\n",
        "def vartest():\n",
        "    global a\n",
        "    a = a+1\n",
        "\n",
        "vartest()\n",
        "print(a)"
      ],
      "metadata": {
        "colab": {
          "base_uri": "https://localhost:8080/"
        },
        "id": "5jdmQOAbB-yr",
        "outputId": "7538788c-939e-4f70-9268-8a8fa8f1c816"
      },
      "execution_count": 52,
      "outputs": [
        {
          "output_type": "stream",
          "name": "stdout",
          "text": [
            "2\n"
          ]
        }
      ]
    },
    {
      "cell_type": "code",
      "source": [
        "add = lambda a, b: a+b\n",
        "result = add(3, 4)\n",
        "print(result)"
      ],
      "metadata": {
        "colab": {
          "base_uri": "https://localhost:8080/"
        },
        "id": "ea3vCtK9CGj6",
        "outputId": "e5a6c707-154f-4189-8319-230f02277200"
      },
      "execution_count": 53,
      "outputs": [
        {
          "output_type": "stream",
          "name": "stdout",
          "text": [
            "7\n"
          ]
        }
      ]
    },
    {
      "cell_type": "code",
      "source": [
        "def add(a, b):\n",
        "    return a+b\n",
        "\n",
        "result = add(3, 4)\n",
        "print(result)"
      ],
      "metadata": {
        "colab": {
          "base_uri": "https://localhost:8080/"
        },
        "id": "h_leO1rLCKQV",
        "outputId": "b6f60af1-0f38-47b0-8405-a289d92672fb"
      },
      "execution_count": 54,
      "outputs": [
        {
          "output_type": "stream",
          "name": "stdout",
          "text": [
            "7\n"
          ]
        }
      ]
    }
  ]
}