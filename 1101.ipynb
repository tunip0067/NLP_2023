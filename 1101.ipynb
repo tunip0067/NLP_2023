{
  "nbformat": 4,
  "nbformat_minor": 0,
  "metadata": {
    "colab": {
      "provenance": [],
      "authorship_tag": "ABX9TyNCWQxzPYEtUtBL8g5Los75",
      "include_colab_link": true
    },
    "kernelspec": {
      "name": "python3",
      "display_name": "Python 3"
    },
    "language_info": {
      "name": "python"
    }
  },
  "cells": [
    {
      "cell_type": "markdown",
      "metadata": {
        "id": "view-in-github",
        "colab_type": "text"
      },
      "source": [
        "<a href=\"https://colab.research.google.com/github/tunip0067/NLP_2023/blob/main/1101.ipynb\" target=\"_parent\"><img src=\"https://colab.research.google.com/assets/colab-badge.svg\" alt=\"Open In Colab\"/></a>"
      ]
    },
    {
      "cell_type": "code",
      "execution_count": 1,
      "metadata": {
        "id": "N_483nyeemEq"
      },
      "outputs": [],
      "source": [
        "def add_txt(t1,t2):\n",
        "  print (t1 + t2)\n",
        "\n",
        "def add_txt(t1, t2):\n",
        "    result = t1 + t2\n",
        "    return result"
      ]
    },
    {
      "cell_type": "code",
      "source": [
        "def add_txt(t1, t2):\n",
        "    result = t1 + t2\n",
        "    return result\n",
        "\n",
        "text1 = \"좋아, \"\n",
        "text2 = \"대나무 헬리콥터!\"\n",
        "\n",
        "combined_text = add_txt(text1, text2)\n",
        "print(combined_text)"
      ],
      "metadata": {
        "colab": {
          "base_uri": "https://localhost:8080/"
        },
        "id": "ZP3Fdh7uez0z",
        "outputId": "e3c7af5c-2ce2-4f34-c406-33ffd9b4d79e"
      },
      "execution_count": 2,
      "outputs": [
        {
          "output_type": "stream",
          "name": "stdout",
          "text": [
            "좋아, 대나무 헬리콥터!\n"
          ]
        }
      ]
    },
    {
      "cell_type": "code",
      "source": [
        "def add_txt(t1, t2):\n",
        "    result = t1 + t2\n",
        "    return result\n",
        "\n",
        "text1 = \"피어나, \"\n",
        "text2 = \"너 내 도도돋ㄱ!\"\n",
        "\n",
        "combined_text = add_txt(text1, text2)\n",
        "print(combined_text)"
      ],
      "metadata": {
        "colab": {
          "base_uri": "https://localhost:8080/"
        },
        "id": "YKVgPUYbfX5w",
        "outputId": "c3ba7487-6fcc-44f1-da01-adbf9787b287"
      },
      "execution_count": 3,
      "outputs": [
        {
          "output_type": "stream",
          "name": "stdout",
          "text": [
            "피어나, 너 내 도도돋ㄱ!\n"
          ]
        }
      ]
    },
    {
      "cell_type": "code",
      "source": [
        "def add_number(n1,n2):\n",
        "  print(n1 + n2)\n",
        "\n",
        "def add_number(n1,n2):\n",
        "  result = n1 + n2\n",
        "  return result"
      ],
      "metadata": {
        "id": "3ZGe5xbDgqwe"
      },
      "execution_count": 4,
      "outputs": []
    },
    {
      "cell_type": "code",
      "source": [
        "name = \"구준모\"\n",
        "score = 57\n",
        "age = 20\n",
        "\n",
        "\n",
        "test_result = \"너 시험 %d점이야, 너 ㅈ댔어!!!.\" % score\n",
        "print(test_result)\n",
        "\n",
        "greeting = \"정신차려 %s,너 이제 %d살이야!!.\" % (name, age)\n",
        "print(greeting)\n",
        "\n",
        "\n",
        "\n",
        "print(\"너 시험 %d점이야, 너 ㅈ댔어!!!.\" %score)\n",
        "print(\"정신차려 %s,너 이제 %d살이야!!.\" %(name, age))"
      ],
      "metadata": {
        "colab": {
          "base_uri": "https://localhost:8080/"
        },
        "id": "1CPjtA-JgwYY",
        "outputId": "283a2d7d-6acb-4e37-9557-d51666687875"
      },
      "execution_count": 8,
      "outputs": [
        {
          "output_type": "stream",
          "name": "stdout",
          "text": [
            "너 시험 57점이야, 너 ㅈ댔어!!!.\n",
            "정신차려 구준모,너 이제 20살이야!!.\n",
            "너 시험 57점이야, 너 ㅈ댔어!!!.\n",
            "정신차려 구준모,너 이제 20살이야!!.\n"
          ]
        }
      ]
    },
    {
      "cell_type": "code",
      "source": [
        "def add(a, b):\n",
        "    result = a + b\n",
        "    return result\n",
        "\n",
        "num1 = 3204958209\n",
        "num2 = 992832764\n",
        "\n",
        "sum_result = add(num1, num2)\n",
        "\n",
        "print(\"The sum of %d and %d is %d\" % (num1, num2, sum_result))"
      ],
      "metadata": {
        "colab": {
          "base_uri": "https://localhost:8080/"
        },
        "id": "84Y0HYA1i24Z",
        "outputId": "5cdcd050-6a9b-492a-c61e-f9a42458e5c2"
      },
      "execution_count": 11,
      "outputs": [
        {
          "output_type": "stream",
          "name": "stdout",
          "text": [
            "The sum of 3204958209 and 992832764 is 4197790973\n"
          ]
        }
      ]
    },
    {
      "cell_type": "code",
      "source": [
        "def add_and_print(a, b):\n",
        "    result = a + b\n",
        "    print(\"The sum of %d and %d is %d\" % (a, b, result))\n",
        "    return result\n",
        "\n",
        "sum_result = add_and_print(3, 4)"
      ],
      "metadata": {
        "colab": {
          "base_uri": "https://localhost:8080/"
        },
        "id": "a38-2jMtjCsc",
        "outputId": "4882c385-8d87-4bdb-e178-fe9d76f5c501"
      },
      "execution_count": 12,
      "outputs": [
        {
          "output_type": "stream",
          "name": "stdout",
          "text": [
            "The sum of 3 and 4 is 7\n"
          ]
        }
      ]
    },
    {
      "cell_type": "code",
      "source": [
        "def add_txt1(t1,t2='마이멜로디'):\n",
        "  print(t1 + ':' + t2)\n",
        "\n",
        "add_txt1('Best')\n",
        "add_txt1(t1='My friend', t2='마이멜로디')\n",
        "add_txt1(t1='My buddy')"
      ],
      "metadata": {
        "colab": {
          "base_uri": "https://localhost:8080/"
        },
        "id": "Qr7zYCJdjG0k",
        "outputId": "b4d4bfa0-44cb-4fe7-ab6c-d66869fb3f15"
      },
      "execution_count": 14,
      "outputs": [
        {
          "output_type": "stream",
          "name": "stdout",
          "text": [
            "Best:마이멜로디\n",
            "My friend:마이멜로디\n",
            "My buddy:마이멜로디\n"
          ]
        }
      ]
    },
    {
      "cell_type": "code",
      "source": [
        "def func_uncertain(*args):\n",
        "  print(args)\n",
        "\n",
        "func_uncertain()\n",
        "\n",
        "func_uncertain(1, 2, 3)\n",
        "func_uncertain('apple', 'banana', 'cherry', 'date')\n",
        "func_uncertain(True)"
      ],
      "metadata": {
        "colab": {
          "base_uri": "https://localhost:8080/"
        },
        "id": "BUjzzpvIjUoD",
        "outputId": "f3c02e27-7801-43d4-9758-e34040d264ef"
      },
      "execution_count": 15,
      "outputs": [
        {
          "output_type": "stream",
          "name": "stdout",
          "text": [
            "()\n",
            "(1, 2, 3)\n",
            "('apple', 'banana', 'cherry', 'date')\n",
            "(True,)\n"
          ]
        }
      ]
    },
    {
      "cell_type": "code",
      "source": [
        "def func_kwa(width, height, **kwargs):\n",
        "  print(kwargs)\n",
        "\n",
        "func_kwa(10, 20)\n",
        "func_kwa(10, 20, depth=30, color='blue')"
      ],
      "metadata": {
        "colab": {
          "base_uri": "https://localhost:8080/"
        },
        "id": "_NqmDCwxjdYE",
        "outputId": "1fe7e070-bd38-4b8d-abdb-1dc8f4ffdc8b"
      },
      "execution_count": 16,
      "outputs": [
        {
          "output_type": "stream",
          "name": "stdout",
          "text": [
            "{}\n",
            "{'depth': 30, 'color': 'blue'}\n"
          ]
        }
      ]
    },
    {
      "cell_type": "code",
      "source": [
        "def myfunction():\n",
        "  print ('하이티비!')\n",
        "\n",
        "list = [1, 2, myfunction]\n",
        "\n",
        "list[2]()\n",
        "myfunction()"
      ],
      "metadata": {
        "colab": {
          "base_uri": "https://localhost:8080/"
        },
        "id": "vQCtb8XmjjBm",
        "outputId": "c0b9aea3-3c45-4865-804b-eef4f9ce448d"
      },
      "execution_count": 17,
      "outputs": [
        {
          "output_type": "stream",
          "name": "stdout",
          "text": [
            "하이티비!\n",
            "하이티비!\n"
          ]
        }
      ]
    }
  ]
}