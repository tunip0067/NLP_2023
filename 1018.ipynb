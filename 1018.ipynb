{
  "nbformat": 4,
  "nbformat_minor": 0,
  "metadata": {
    "colab": {
      "provenance": [],
      "authorship_tag": "ABX9TyPN6F6PMu4qUR1nPfIQlTkm",
      "include_colab_link": true
    },
    "kernelspec": {
      "name": "python3",
      "display_name": "Python 3"
    },
    "language_info": {
      "name": "python"
    }
  },
  "cells": [
    {
      "cell_type": "markdown",
      "metadata": {
        "id": "view-in-github",
        "colab_type": "text"
      },
      "source": [
        "<a href=\"https://colab.research.google.com/github/tunip0067/NLP_2023/blob/main/1018.ipynb\" target=\"_parent\"><img src=\"https://colab.research.google.com/assets/colab-badge.svg\" alt=\"Open In Colab\"/></a>"
      ]
    },
    {
      "cell_type": "code",
      "execution_count": 1,
      "metadata": {
        "colab": {
          "base_uri": "https://localhost:8080/"
        },
        "id": "NsG7McUIhin-",
        "outputId": "5cce36d0-7ca4-490b-81ec-59041d5e0739"
      },
      "outputs": [
        {
          "output_type": "stream",
          "name": "stdout",
          "text": [
            "3\n",
            "7\n"
          ]
        }
      ],
      "source": [
        "result = 0\n",
        "\n",
        "def add(num):\n",
        "    global result\n",
        "    result += num\n",
        "    return result\n",
        "\n",
        "print(add(3))\n",
        "print(add(4))"
      ]
    },
    {
      "cell_type": "code",
      "source": [
        "result1 = 0\n",
        "result2 = 0\n",
        "\n",
        "def add1(num):\n",
        "    global result1\n",
        "    result1 += num\n",
        "    return result1\n",
        "\n",
        "def add2(num):\n",
        "    global result2\n",
        "    result2 += num\n",
        "    return result2\n",
        "\n",
        "print(add1(3))\n",
        "print(add1(4))\n",
        "print(add2(3))\n",
        "print(add2(7))"
      ],
      "metadata": {
        "colab": {
          "base_uri": "https://localhost:8080/"
        },
        "id": "LtOWXgHNh0Sl",
        "outputId": "7df9900d-5b55-4878-c3aa-1a4c3b688cac"
      },
      "execution_count": 2,
      "outputs": [
        {
          "output_type": "stream",
          "name": "stdout",
          "text": [
            "3\n",
            "7\n",
            "3\n",
            "10\n"
          ]
        }
      ]
    },
    {
      "cell_type": "code",
      "source": [
        "class Calculator:\n",
        "    def __init__(self):\n",
        "        self.result = 0\n",
        "\n",
        "    def add(self, num):\n",
        "        self.result += num\n",
        "        return self.result\n",
        "\n",
        "cal1 = Calculator()\n",
        "cal2 = Calculator()\n",
        "\n",
        "print(cal1.add(3))\n",
        "print(cal1.add(4))\n",
        "print(cal2.add(3))\n",
        "print(cal2.add(7))"
      ],
      "metadata": {
        "colab": {
          "base_uri": "https://localhost:8080/"
        },
        "id": "Z10HCJzFh9cx",
        "outputId": "5e135c06-5dca-4eeb-eb89-76c1bb33ceca"
      },
      "execution_count": 3,
      "outputs": [
        {
          "output_type": "stream",
          "name": "stdout",
          "text": [
            "3\n",
            "7\n",
            "3\n",
            "10\n"
          ]
        }
      ]
    },
    {
      "cell_type": "code",
      "source": [
        "class Calculator:\n",
        "    def __init__(self):\n",
        "        self.result = 0\n",
        "\n",
        "    def add(self, num):\n",
        "        self.result += num\n",
        "        return self.result\n",
        "\n",
        "    def sub(self, num):\n",
        "        self.result -= num\n",
        "        return self.result"
      ],
      "metadata": {
        "id": "a9jpI2uniDip"
      },
      "execution_count": 4,
      "outputs": []
    },
    {
      "cell_type": "code",
      "source": [
        "class Cookie:\n",
        "   pass"
      ],
      "metadata": {
        "id": "9ZFmiosOiNQb"
      },
      "execution_count": 5,
      "outputs": []
    },
    {
      "cell_type": "code",
      "source": [
        "a = Cookie()\n",
        "b = Cookie()"
      ],
      "metadata": {
        "id": "QZ9PpxIFiUcu"
      },
      "execution_count": 6,
      "outputs": []
    },
    {
      "cell_type": "code",
      "source": [
        "class FourCal:\n",
        "  pass"
      ],
      "metadata": {
        "id": "96VHOWmri6zE"
      },
      "execution_count": 15,
      "outputs": []
    },
    {
      "cell_type": "code",
      "source": [
        "a = FourCal()\n",
        "type(a)\n"
      ],
      "metadata": {
        "colab": {
          "base_uri": "https://localhost:8080/"
        },
        "id": "w9eVDGr6i_IS",
        "outputId": "250521c0-9b9b-4ab4-b941-a8e7a98261ee"
      },
      "execution_count": 13,
      "outputs": [
        {
          "output_type": "execute_result",
          "data": {
            "text/plain": [
              "__main__.FourCal"
            ]
          },
          "metadata": {},
          "execution_count": 13
        }
      ]
    },
    {
      "cell_type": "code",
      "source": [
        "class FourCal:\n",
        "    def setdata(self, first, second):\n",
        "        self.first = first\n",
        "        self.second = second"
      ],
      "metadata": {
        "id": "_ziZPzJRjUm-"
      },
      "execution_count": 19,
      "outputs": []
    },
    {
      "cell_type": "code",
      "source": [
        "def setdata(self, first, second):\n",
        "    self.first = first\n",
        "    self.second = second"
      ],
      "metadata": {
        "id": "mI-JAvMWjhWS"
      },
      "execution_count": 20,
      "outputs": []
    },
    {
      "cell_type": "code",
      "source": [
        "a = FourCal()\n",
        "a.setdata(4, 2)"
      ],
      "metadata": {
        "id": "3tF0it5YjmU5"
      },
      "execution_count": 21,
      "outputs": []
    },
    {
      "cell_type": "code",
      "source": [
        "a = FourCal()\n",
        "FourCal.setdata(a, 4, 2)"
      ],
      "metadata": {
        "id": "J33Y-ACxjsw1"
      },
      "execution_count": 22,
      "outputs": []
    },
    {
      "cell_type": "code",
      "source": [
        "a = FourCal()\n",
        "a.setdata(4, 2)"
      ],
      "metadata": {
        "id": "mSSg4xsWjxgX"
      },
      "execution_count": 23,
      "outputs": []
    },
    {
      "cell_type": "code",
      "source": [
        "def setdata(self, first, second):\n",
        "    self.first = first\n",
        "    self.second = second"
      ],
      "metadata": {
        "id": "2sH31wA3j2mf"
      },
      "execution_count": 24,
      "outputs": []
    },
    {
      "cell_type": "code",
      "source": [
        "a = FourCal()\n",
        "a.setdata(4, 2)\n",
        "a.first\n",
        "a.second"
      ],
      "metadata": {
        "colab": {
          "base_uri": "https://localhost:8080/"
        },
        "id": "8L352Zv7kRRg",
        "outputId": "a3be77ab-7503-42cf-8c89-1d74086d4335"
      },
      "execution_count": 27,
      "outputs": [
        {
          "output_type": "execute_result",
          "data": {
            "text/plain": [
              "2"
            ]
          },
          "metadata": {},
          "execution_count": 27
        }
      ]
    },
    {
      "cell_type": "code",
      "source": [
        "a = FourCal()\n",
        "b = FourCal()"
      ],
      "metadata": {
        "id": "OhKrAlLjkZ-r"
      },
      "execution_count": 28,
      "outputs": []
    },
    {
      "cell_type": "code",
      "source": [
        "a.setdata(4, 2)\n",
        "a.first"
      ],
      "metadata": {
        "colab": {
          "base_uri": "https://localhost:8080/"
        },
        "id": "XGs7wGtfkefP",
        "outputId": "6fd27f6d-b402-4664-c341-83f0cd21924e"
      },
      "execution_count": 29,
      "outputs": [
        {
          "output_type": "execute_result",
          "data": {
            "text/plain": [
              "4"
            ]
          },
          "metadata": {},
          "execution_count": 29
        }
      ]
    },
    {
      "cell_type": "code",
      "source": [
        "b.setdata(3, 7)\n",
        "b.first"
      ],
      "metadata": {
        "colab": {
          "base_uri": "https://localhost:8080/"
        },
        "id": "HAmu0FVykkdi",
        "outputId": "2e5447eb-3dac-4559-94a8-f40a0d3d2b70"
      },
      "execution_count": 30,
      "outputs": [
        {
          "output_type": "execute_result",
          "data": {
            "text/plain": [
              "3"
            ]
          },
          "metadata": {},
          "execution_count": 30
        }
      ]
    },
    {
      "cell_type": "code",
      "source": [
        "a.first"
      ],
      "metadata": {
        "colab": {
          "base_uri": "https://localhost:8080/"
        },
        "id": "XC3wsXC6krW8",
        "outputId": "3be10023-d660-4e10-f9c2-7236e331d38a"
      },
      "execution_count": 31,
      "outputs": [
        {
          "output_type": "execute_result",
          "data": {
            "text/plain": [
              "4"
            ]
          },
          "metadata": {},
          "execution_count": 31
        }
      ]
    }
  ]
}