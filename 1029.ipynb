{
  "nbformat": 4,
  "nbformat_minor": 0,
  "metadata": {
    "colab": {
      "provenance": [],
      "authorship_tag": "ABX9TyMFa3UL/MjQYt9qcPQsscJZ",
      "include_colab_link": true
    },
    "kernelspec": {
      "name": "python3",
      "display_name": "Python 3"
    },
    "language_info": {
      "name": "python"
    }
  },
  "cells": [
    {
      "cell_type": "markdown",
      "metadata": {
        "id": "view-in-github",
        "colab_type": "text"
      },
      "source": [
        "<a href=\"https://colab.research.google.com/github/tunip0067/NLP_2023/blob/main/1029.ipynb\" target=\"_parent\"><img src=\"https://colab.research.google.com/assets/colab-badge.svg\" alt=\"Open In Colab\"/></a>"
      ]
    },
    {
      "cell_type": "code",
      "execution_count": 2,
      "metadata": {
        "colab": {
          "base_uri": "https://localhost:8080/"
        },
        "id": "PaU8DbLmjx7J",
        "outputId": "df18c48a-3334-4e7c-a594-996e5924015d"
      },
      "outputs": [
        {
          "output_type": "stream",
          "name": "stdout",
          "text": [
            "Match: cat\n",
            "Match: hat\n",
            "Match: bat\n",
            "Match: sat\n",
            "Match: mat\n",
            "Match: bat\n",
            "Match: bat\n"
          ]
        }
      ],
      "source": [
        "import re\n",
        "text = \"cat, hat, bat, sat, mat, combat, unbated\"\n",
        "pattern = r\".at\"\n",
        "\n",
        "matches = re.findall(pattern, text)\n",
        "\n",
        "for match in matches:\n",
        "    print(\"Match:\", match)"
      ]
    },
    {
      "cell_type": "code",
      "source": [
        "text2 = \"at, cat, at, hat, bat, sat, mat, combat, unbated\"\n",
        "\n",
        "matches = re.findall(pattern, text2)\n",
        "\n",
        "for i in matches:\n",
        "    print(\"Match:\", i)"
      ],
      "metadata": {
        "colab": {
          "base_uri": "https://localhost:8080/"
        },
        "id": "2Irw2kOXlFgf",
        "outputId": "7db60904-7f82-4c2d-bfc5-762c0e3b528c"
      },
      "execution_count": 3,
      "outputs": [
        {
          "output_type": "stream",
          "name": "stdout",
          "text": [
            "Match: cat\n",
            "Match:  at\n",
            "Match: hat\n",
            "Match: bat\n",
            "Match: sat\n",
            "Match: mat\n",
            "Match: bat\n",
            "Match: bat\n"
          ]
        }
      ]
    },
    {
      "cell_type": "code",
      "source": [
        "import re\n",
        "\n",
        "text = \"color or colour?\"\n",
        "pattern = r\"colou?r\"\n",
        "\n",
        "matches = re.findall(pattern, text)\n",
        "\n",
        "for i in matches:\n",
        "    print(\"Match:\", i)"
      ],
      "metadata": {
        "colab": {
          "base_uri": "https://localhost:8080/"
        },
        "id": "OD1zJ5mvlJth",
        "outputId": "202ef48e-7145-4050-dd1f-a7722c7d9c9b"
      },
      "execution_count": 4,
      "outputs": [
        {
          "output_type": "stream",
          "name": "stdout",
          "text": [
            "Match: color\n",
            "Match: colour\n"
          ]
        }
      ]
    },
    {
      "cell_type": "code",
      "source": [
        "text2 = \"color, colour, or coloer?\"\n",
        "pattern = r\"colou?r\"\n",
        "\n",
        "matches = re.findall(pattern, text2)\n",
        "\n",
        "for i in matches:\n",
        "    print(\"Match:\", i)"
      ],
      "metadata": {
        "colab": {
          "base_uri": "https://localhost:8080/"
        },
        "id": "kdR0_pAxlRM5",
        "outputId": "c0266904-7a71-4fd0-8283-92688c84bb2f"
      },
      "execution_count": 6,
      "outputs": [
        {
          "output_type": "stream",
          "name": "stdout",
          "text": [
            "Match: color\n",
            "Match: colour\n"
          ]
        }
      ]
    },
    {
      "cell_type": "code",
      "source": [
        "import re\n",
        "\n",
        "text = \"ab, ac, abc, abbc, aabbc, abbbbbbbbbbbbbbc\"\n",
        "pattern = r\"ab*c\"\n",
        "\n",
        "matches = re.findall(pattern, text)\n",
        "\n",
        "for i in matches:\n",
        "    print(\"Match:\", i)\n",
        ""
      ],
      "metadata": {
        "colab": {
          "base_uri": "https://localhost:8080/"
        },
        "id": "qg7YbuZClVzk",
        "outputId": "c444a1b2-72e8-49ec-babf-299765656584"
      },
      "execution_count": 7,
      "outputs": [
        {
          "output_type": "stream",
          "name": "stdout",
          "text": [
            "Match: ac\n",
            "Match: abc\n",
            "Match: abbc\n",
            "Match: abbc\n",
            "Match: abbbbbbbbbbbbbbc\n"
          ]
        }
      ]
    },
    {
      "cell_type": "code",
      "source": [
        "import re\n",
        "\n",
        "text = \"Python is a popular programming language. Python is versatile.\"\n",
        "pattern = r'versatile.$'\n",
        "\n",
        "matches = re.findall(pattern, text)\n",
        "\n",
        "for i in matches:\n",
        "    print(\"Match:\", i)"
      ],
      "metadata": {
        "colab": {
          "base_uri": "https://localhost:8080/"
        },
        "id": "zONYYSwJlfl3",
        "outputId": "b20aad01-1c46-4356-e58d-24268c0302c4"
      },
      "execution_count": 8,
      "outputs": [
        {
          "output_type": "stream",
          "name": "stdout",
          "text": [
            "Match: versatile.\n"
          ]
        }
      ]
    },
    {
      "cell_type": "code",
      "source": [
        "import re\n",
        "\n",
        "text = \"Python is a popular programming language. Python is versatile.\"\n",
        "pattern = r'tile.$'\n",
        "\n",
        "matches = re.findall(pattern, text)\n",
        "\n",
        "for i in matches:\n",
        "    print(\"Match:\", i)"
      ],
      "metadata": {
        "colab": {
          "base_uri": "https://localhost:8080/"
        },
        "id": "86ZScYzYlke-",
        "outputId": "31fe2be6-bb95-432a-beb0-e25ab73bdc83"
      },
      "execution_count": 9,
      "outputs": [
        {
          "output_type": "stream",
          "name": "stdout",
          "text": [
            "Match: tile.\n"
          ]
        }
      ]
    },
    {
      "cell_type": "code",
      "source": [
        "import re\n",
        "\n",
        "text = \"Python is a popular programming language. Python is versatile.\"\n",
        "pattern = r'language.$'\n",
        "\n",
        "matches = re.findall(pattern, text)\n",
        "\n",
        "for i in matches:\n",
        "    print(\"Match:\", i)"
      ],
      "metadata": {
        "id": "OKNvLcellmJC"
      },
      "execution_count": 10,
      "outputs": []
    },
    {
      "cell_type": "code",
      "source": [
        "import re\n",
        "\n",
        "text = \"Python is a programming language. Python is versatile. We all love Python.\"\n",
        "pattern = r'^Python'\n",
        "\n",
        "matches = re.findall(pattern, text)\n",
        "\n",
        "for i in matches:\n",
        "    print(\"Match:\", i)"
      ],
      "metadata": {
        "colab": {
          "base_uri": "https://localhost:8080/"
        },
        "id": "ysWrjv2XlqBq",
        "outputId": "d7aa56c5-1cdf-4427-d2ba-23eb455dac1c"
      },
      "execution_count": 12,
      "outputs": [
        {
          "output_type": "stream",
          "name": "stdout",
          "text": [
            "Match: Python\n"
          ]
        }
      ]
    }
  ]
}