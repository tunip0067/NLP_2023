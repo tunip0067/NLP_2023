{
  "nbformat": 4,
  "nbformat_minor": 0,
  "metadata": {
    "colab": {
      "provenance": [],
      "authorship_tag": "ABX9TyPMYWhWCeqQUyQpzpCEiwiM",
      "include_colab_link": true
    },
    "kernelspec": {
      "name": "python3",
      "display_name": "Python 3"
    },
    "language_info": {
      "name": "python"
    }
  },
  "cells": [
    {
      "cell_type": "markdown",
      "metadata": {
        "id": "view-in-github",
        "colab_type": "text"
      },
      "source": [
        "<a href=\"https://colab.research.google.com/github/tunip0067/NLP_2023/blob/main/1204.ipynb\" target=\"_parent\"><img src=\"https://colab.research.google.com/assets/colab-badge.svg\" alt=\"Open In Colab\"/></a>"
      ]
    },
    {
      "cell_type": "code",
      "execution_count": 6,
      "metadata": {
        "colab": {
          "base_uri": "https://localhost:8080/"
        },
        "id": "-denVv2sD7Sd",
        "outputId": "36673d6b-1662-4638-b6f1-870947951016"
      },
      "outputs": [
        {
          "output_type": "stream",
          "name": "stdout",
          "text": [
            "Requirement already satisfied: nltk in /usr/local/lib/python3.10/dist-packages (3.8.1)\n",
            "Requirement already satisfied: click in /usr/local/lib/python3.10/dist-packages (from nltk) (8.1.7)\n",
            "Requirement already satisfied: joblib in /usr/local/lib/python3.10/dist-packages (from nltk) (1.3.2)\n",
            "Requirement already satisfied: regex>=2021.8.3 in /usr/local/lib/python3.10/dist-packages (from nltk) (2023.6.3)\n",
            "Requirement already satisfied: tqdm in /usr/local/lib/python3.10/dist-packages (from nltk) (4.66.1)\n"
          ]
        }
      ],
      "source": [
        "!pip install nltk"
      ]
    },
    {
      "cell_type": "code",
      "source": [
        "import nltk\n",
        "from nltk.tokenize import word_tokenize, sent_tokenize\n",
        "nltk.download(\"punkt\")"
      ],
      "metadata": {
        "colab": {
          "base_uri": "https://localhost:8080/"
        },
        "id": "Gp7hbirrFEpk",
        "outputId": "3c563709-be24-4bce-8354-a33cdd792c16"
      },
      "execution_count": 7,
      "outputs": [
        {
          "output_type": "stream",
          "name": "stderr",
          "text": [
            "[nltk_data] Downloading package punkt to /root/nltk_data...\n",
            "[nltk_data]   Unzipping tokenizers/punkt.zip.\n"
          ]
        },
        {
          "output_type": "execute_result",
          "data": {
            "text/plain": [
              "True"
            ]
          },
          "metadata": {},
          "execution_count": 7
        }
      ]
    },
    {
      "cell_type": "code",
      "source": [
        "text = \"Python programming is a high-level, interpreted programming language known for its simplicity and readability. It emphasizes code readability with its clean syntax, making it easier to write and understand. Python supports multiple programming paradigms, including procedural, object-oriented, and functional programming. It has a vast standard library and a thriving ecosystem of third-party libraries and frameworks, making it suitable for various domains such as web development, data analysis, machine learning, and automation. Python's versatility, ease of use, and extensive community support have contributed to its popularity among developers of all skill levels.\"\n",
        "from nltk.tokenize import sent_tokenize\n",
        "sentence = sent_tokenize(text)\n",
        "print('문장 토큰화: %s' %sentence)"
      ],
      "metadata": {
        "colab": {
          "base_uri": "https://localhost:8080/"
        },
        "id": "VDM_WOKPFHfw",
        "outputId": "51f5d7b1-13ac-4d3f-d6c1-c8573ace49d2"
      },
      "execution_count": 8,
      "outputs": [
        {
          "output_type": "stream",
          "name": "stdout",
          "text": [
            "문장 토큰화: ['Python programming is a high-level, interpreted programming language known for its simplicity and readability.', 'It emphasizes code readability with its clean syntax, making it easier to write and understand.', 'Python supports multiple programming paradigms, including procedural, object-oriented, and functional programming.', 'It has a vast standard library and a thriving ecosystem of third-party libraries and frameworks, making it suitable for various domains such as web development, data analysis, machine learning, and automation.', \"Python's versatility, ease of use, and extensive community support have contributed to its popularity among developers of all skill levels.\"]\n"
          ]
        }
      ]
    },
    {
      "cell_type": "code",
      "source": [
        "text = \"\"\"There was once a little Kid whose growing horns made him think he was a grown-up Billy Goat and able to take care of himself. So one evening when the flock started home from the pasture and his mother called, the Kid paid no heed and kept right on nibbling the tender grass. A little later when he lifted his head, the flock was gone. He was all alone. The sun was sinking. Long shadows came creeping over the ground. A chilly little wind came creeping with them making scary noises in the grass. The Kid shivered as he thought of the terrible Wolf. Then he started wildly over the field, bleating for his mother. But not half-way, near a clump of trees, there was the Wolf! The Kid knew there was little hope for him. “Please, Mr. Wolf,” he said trembling, “I know you are going to eat me. But first please pipe me a tune, for I want to dance and be merry as long as I can.“The Wolf liked the idea of a little music before eating, so he struck up a merry tune and the Kid leaped and frisked gaily. Meanwhile, the flock was moving slowly homeward. In the still evening air the Wolf's piping carried far. The Shepherd Dogs pricked up their ears. They recognized the song the Wolf sings before a feast, and in a moment they were racing back to the pasture. The Wolf's song ended suddenly, and as he ran, with the Dogs at his heels, he called himself a fool for turning piper to please a Kid, when he should have stuck to his butcher's trade. Do not let anything turn you from your purpose.\"\"\"\n",
        "\n",
        "words = text.split()\n",
        "\n",
        "unique_words = set(words)\n",
        "ttr = len(unique_words) / len(words)\n",
        "\n",
        "print(\"Type-Token Ratio (TTR):\", ttr)"
      ],
      "metadata": {
        "colab": {
          "base_uri": "https://localhost:8080/"
        },
        "id": "R_y9YwFFFIry",
        "outputId": "e727e150-9768-4223-a1df-97ebd34435de"
      },
      "execution_count": 9,
      "outputs": [
        {
          "output_type": "stream",
          "name": "stdout",
          "text": [
            "Type-Token Ratio (TTR): 0.6267605633802817\n"
          ]
        }
      ]
    },
    {
      "cell_type": "code",
      "source": [
        "text = \"\"\"There was once a little Kid whose growing horns made him think he was a grown-up Billy Goat and able to take care of himself. So one evening when the flock started home from the pasture and his mother called, the Kid paid no heed and kept right on nibbling the tender grass. A little later when he lifted his head, the flock was gone. He was all alone. The sun was sinking. Long shadows came creeping over the ground. A chilly little wind came creeping with them making scary noises in the grass. The Kid shivered as he thought of the terrible Wolf. Then he started wildly over the field, bleating for his mother. But not half-way, near a clump of trees, there was the Wolf! The Kid knew there was little hope for him. “Please, Mr. Wolf,” he said trembling, “I know you are going to eat me. But first please pipe me a tune, for I want to dance and be merry as long as I can.“The Wolf liked the idea of a little music before eating, so he struck up a merry tune and the Kid leaped and frisked gaily. Meanwhile, the flock was moving slowly homeward. In the still evening air the Wolf's piping carried far. The Shepherd Dogs pricked up their ears. They recognized the song the Wolf sings before a feast, and in a moment they were racing back to the pasture. The Wolf's song ended suddenly, and as he ran, with the Dogs at his heels, he called himself a fool for turning piper to please a Kid, when he should have stuck to his butcher's trade. Do not let anything turn you from your purpose.\"\"\"\n",
        "\n",
        "words = text.split()\n",
        "\n",
        "unique_words = set(words)\n",
        "ttr = len(unique_words) / len(words)\n",
        "\n",
        "print(\"Type-Token Ratio (TTR):\", ttr)\n",
        "print(\"Tokens:\", words)\n",
        "print(\"Unique words (Types):\", sorted(unique_words))"
      ],
      "metadata": {
        "colab": {
          "base_uri": "https://localhost:8080/"
        },
        "id": "nzD2aqeBFRBq",
        "outputId": "145e59c5-090c-498b-e498-8fc31e18f860"
      },
      "execution_count": 10,
      "outputs": [
        {
          "output_type": "stream",
          "name": "stdout",
          "text": [
            "Type-Token Ratio (TTR): 0.6267605633802817\n",
            "Tokens: ['There', 'was', 'once', 'a', 'little', 'Kid', 'whose', 'growing', 'horns', 'made', 'him', 'think', 'he', 'was', 'a', 'grown-up', 'Billy', 'Goat', 'and', 'able', 'to', 'take', 'care', 'of', 'himself.', 'So', 'one', 'evening', 'when', 'the', 'flock', 'started', 'home', 'from', 'the', 'pasture', 'and', 'his', 'mother', 'called,', 'the', 'Kid', 'paid', 'no', 'heed', 'and', 'kept', 'right', 'on', 'nibbling', 'the', 'tender', 'grass.', 'A', 'little', 'later', 'when', 'he', 'lifted', 'his', 'head,', 'the', 'flock', 'was', 'gone.', 'He', 'was', 'all', 'alone.', 'The', 'sun', 'was', 'sinking.', 'Long', 'shadows', 'came', 'creeping', 'over', 'the', 'ground.', 'A', 'chilly', 'little', 'wind', 'came', 'creeping', 'with', 'them', 'making', 'scary', 'noises', 'in', 'the', 'grass.', 'The', 'Kid', 'shivered', 'as', 'he', 'thought', 'of', 'the', 'terrible', 'Wolf.', 'Then', 'he', 'started', 'wildly', 'over', 'the', 'field,', 'bleating', 'for', 'his', 'mother.', 'But', 'not', 'half-way,', 'near', 'a', 'clump', 'of', 'trees,', 'there', 'was', 'the', 'Wolf!', 'The', 'Kid', 'knew', 'there', 'was', 'little', 'hope', 'for', 'him.', '“Please,', 'Mr.', 'Wolf,”', 'he', 'said', 'trembling,', '“I', 'know', 'you', 'are', 'going', 'to', 'eat', 'me.', 'But', 'first', 'please', 'pipe', 'me', 'a', 'tune,', 'for', 'I', 'want', 'to', 'dance', 'and', 'be', 'merry', 'as', 'long', 'as', 'I', 'can.“The', 'Wolf', 'liked', 'the', 'idea', 'of', 'a', 'little', 'music', 'before', 'eating,', 'so', 'he', 'struck', 'up', 'a', 'merry', 'tune', 'and', 'the', 'Kid', 'leaped', 'and', 'frisked', 'gaily.', 'Meanwhile,', 'the', 'flock', 'was', 'moving', 'slowly', 'homeward.', 'In', 'the', 'still', 'evening', 'air', 'the', \"Wolf's\", 'piping', 'carried', 'far.', 'The', 'Shepherd', 'Dogs', 'pricked', 'up', 'their', 'ears.', 'They', 'recognized', 'the', 'song', 'the', 'Wolf', 'sings', 'before', 'a', 'feast,', 'and', 'in', 'a', 'moment', 'they', 'were', 'racing', 'back', 'to', 'the', 'pasture.', 'The', \"Wolf's\", 'song', 'ended', 'suddenly,', 'and', 'as', 'he', 'ran,', 'with', 'the', 'Dogs', 'at', 'his', 'heels,', 'he', 'called', 'himself', 'a', 'fool', 'for', 'turning', 'piper', 'to', 'please', 'a', 'Kid,', 'when', 'he', 'should', 'have', 'stuck', 'to', 'his', \"butcher's\", 'trade.', 'Do', 'not', 'let', 'anything', 'turn', 'you', 'from', 'your', 'purpose.']\n",
            "Unique words (Types): ['A', 'Billy', 'But', 'Do', 'Dogs', 'Goat', 'He', 'I', 'In', 'Kid', 'Kid,', 'Long', 'Meanwhile,', 'Mr.', 'Shepherd', 'So', 'The', 'Then', 'There', 'They', 'Wolf', 'Wolf!', \"Wolf's\", 'Wolf,”', 'Wolf.', 'a', 'able', 'air', 'all', 'alone.', 'and', 'anything', 'are', 'as', 'at', 'back', 'be', 'before', 'bleating', \"butcher's\", 'called', 'called,', 'came', 'can.“The', 'care', 'carried', 'chilly', 'clump', 'creeping', 'dance', 'ears.', 'eat', 'eating,', 'ended', 'evening', 'far.', 'feast,', 'field,', 'first', 'flock', 'fool', 'for', 'frisked', 'from', 'gaily.', 'going', 'gone.', 'grass.', 'ground.', 'growing', 'grown-up', 'half-way,', 'have', 'he', 'head,', 'heed', 'heels,', 'him', 'him.', 'himself', 'himself.', 'his', 'home', 'homeward.', 'hope', 'horns', 'idea', 'in', 'kept', 'knew', 'know', 'later', 'leaped', 'let', 'lifted', 'liked', 'little', 'long', 'made', 'making', 'me', 'me.', 'merry', 'moment', 'mother', 'mother.', 'moving', 'music', 'near', 'nibbling', 'no', 'noises', 'not', 'of', 'on', 'once', 'one', 'over', 'paid', 'pasture', 'pasture.', 'pipe', 'piper', 'piping', 'please', 'pricked', 'purpose.', 'racing', 'ran,', 'recognized', 'right', 'said', 'scary', 'shadows', 'shivered', 'should', 'sings', 'sinking.', 'slowly', 'so', 'song', 'started', 'still', 'struck', 'stuck', 'suddenly,', 'sun', 'take', 'tender', 'terrible', 'the', 'their', 'them', 'there', 'they', 'think', 'thought', 'to', 'trade.', 'trees,', 'trembling,', 'tune', 'tune,', 'turn', 'turning', 'up', 'want', 'was', 'were', 'when', 'whose', 'wildly', 'wind', 'with', 'you', 'your', '“I', '“Please,']\n"
          ]
        }
      ]
    },
    {
      "cell_type": "code",
      "source": [
        "def tokenize_and_lower(text):\n",
        "    words = text.split()\n",
        "    words_lower = [word.lower() for word in words]\n",
        "    return words_lower\n",
        "\n",
        "text = \"\"\"There was once a little Kid whose growing horns made him think he was a grown-up Billy Goat and able to take care of himself. So one evening when the flock started home from the pasture and his mother called, the Kid paid no heed and kept right on nibbling the tender grass. A little later when he lifted his head, the flock was gone. He was all alone. The sun was sinking. Long shadows came creeping over the ground. A chilly little wind came creeping with them making scary noises in the grass. The Kid shivered as he thought of the terrible Wolf. Then he started wildly over the field, bleating for his mother. But not half-way, near a clump of trees, there was the Wolf! The Kid knew there was little hope for him. “Please, Mr. Wolf,” he said trembling, “I know you are going to eat me. But first please pipe me a tune, for I want to dance and be merry as long as I can.“ The Wolf liked the idea of a little music before eating, so he struck up a merry tune and the Kid leaped and frisked gaily. Meanwhile, the flock was moving slowly homeward. In the still evening air the Wolf's piping carried far. The Shepherd Dogs pricked up their ears. They recognized the song the Wolf sings before a feast, and in a moment they were racing back to the pasture. The Wolf's song ended suddenly, and as he ran, with the Dogs at his heels, he called himself a fool for turning piper to please a Kid, when he should have stuck to his butcher's trade. Do not let anything turn you from your purpose.\"\"\"\n",
        "\n",
        "count = len(text)\n",
        "print(count)\n",
        "\n",
        "tokens_lower = tokenize_and_lower(text)\n",
        "\n",
        "unique_words = set(tokens_lower)\n",
        "ttr = len(unique_words) / len(tokens_lower)\n",
        "\n",
        "print(\"Type-Token Ratio (TTR):\", ttr)\n",
        "print(\"Tokens in Lowercase:\", tokens_lower)\n",
        "print(\"Unique words (Types):\", sorted(unique_words))"
      ],
      "metadata": {
        "colab": {
          "base_uri": "https://localhost:8080/"
        },
        "id": "eSp3K7mjFa2-",
        "outputId": "c7e0c758-9327-4565-c4e3-8ce62041e824"
      },
      "execution_count": 11,
      "outputs": [
        {
          "output_type": "stream",
          "name": "stdout",
          "text": [
            "1488\n",
            "Type-Token Ratio (TTR): 0.5964912280701754\n",
            "Tokens in Lowercase: ['there', 'was', 'once', 'a', 'little', 'kid', 'whose', 'growing', 'horns', 'made', 'him', 'think', 'he', 'was', 'a', 'grown-up', 'billy', 'goat', 'and', 'able', 'to', 'take', 'care', 'of', 'himself.', 'so', 'one', 'evening', 'when', 'the', 'flock', 'started', 'home', 'from', 'the', 'pasture', 'and', 'his', 'mother', 'called,', 'the', 'kid', 'paid', 'no', 'heed', 'and', 'kept', 'right', 'on', 'nibbling', 'the', 'tender', 'grass.', 'a', 'little', 'later', 'when', 'he', 'lifted', 'his', 'head,', 'the', 'flock', 'was', 'gone.', 'he', 'was', 'all', 'alone.', 'the', 'sun', 'was', 'sinking.', 'long', 'shadows', 'came', 'creeping', 'over', 'the', 'ground.', 'a', 'chilly', 'little', 'wind', 'came', 'creeping', 'with', 'them', 'making', 'scary', 'noises', 'in', 'the', 'grass.', 'the', 'kid', 'shivered', 'as', 'he', 'thought', 'of', 'the', 'terrible', 'wolf.', 'then', 'he', 'started', 'wildly', 'over', 'the', 'field,', 'bleating', 'for', 'his', 'mother.', 'but', 'not', 'half-way,', 'near', 'a', 'clump', 'of', 'trees,', 'there', 'was', 'the', 'wolf!', 'the', 'kid', 'knew', 'there', 'was', 'little', 'hope', 'for', 'him.', '“please,', 'mr.', 'wolf,”', 'he', 'said', 'trembling,', '“i', 'know', 'you', 'are', 'going', 'to', 'eat', 'me.', 'but', 'first', 'please', 'pipe', 'me', 'a', 'tune,', 'for', 'i', 'want', 'to', 'dance', 'and', 'be', 'merry', 'as', 'long', 'as', 'i', 'can.“', 'the', 'wolf', 'liked', 'the', 'idea', 'of', 'a', 'little', 'music', 'before', 'eating,', 'so', 'he', 'struck', 'up', 'a', 'merry', 'tune', 'and', 'the', 'kid', 'leaped', 'and', 'frisked', 'gaily.', 'meanwhile,', 'the', 'flock', 'was', 'moving', 'slowly', 'homeward.', 'in', 'the', 'still', 'evening', 'air', 'the', \"wolf's\", 'piping', 'carried', 'far.', 'the', 'shepherd', 'dogs', 'pricked', 'up', 'their', 'ears.', 'they', 'recognized', 'the', 'song', 'the', 'wolf', 'sings', 'before', 'a', 'feast,', 'and', 'in', 'a', 'moment', 'they', 'were', 'racing', 'back', 'to', 'the', 'pasture.', 'the', \"wolf's\", 'song', 'ended', 'suddenly,', 'and', 'as', 'he', 'ran,', 'with', 'the', 'dogs', 'at', 'his', 'heels,', 'he', 'called', 'himself', 'a', 'fool', 'for', 'turning', 'piper', 'to', 'please', 'a', 'kid,', 'when', 'he', 'should', 'have', 'stuck', 'to', 'his', \"butcher's\", 'trade.', 'do', 'not', 'let', 'anything', 'turn', 'you', 'from', 'your', 'purpose.']\n",
            "Unique words (Types): ['a', 'able', 'air', 'all', 'alone.', 'and', 'anything', 'are', 'as', 'at', 'back', 'be', 'before', 'billy', 'bleating', 'but', \"butcher's\", 'called', 'called,', 'came', 'can.“', 'care', 'carried', 'chilly', 'clump', 'creeping', 'dance', 'do', 'dogs', 'ears.', 'eat', 'eating,', 'ended', 'evening', 'far.', 'feast,', 'field,', 'first', 'flock', 'fool', 'for', 'frisked', 'from', 'gaily.', 'goat', 'going', 'gone.', 'grass.', 'ground.', 'growing', 'grown-up', 'half-way,', 'have', 'he', 'head,', 'heed', 'heels,', 'him', 'him.', 'himself', 'himself.', 'his', 'home', 'homeward.', 'hope', 'horns', 'i', 'idea', 'in', 'kept', 'kid', 'kid,', 'knew', 'know', 'later', 'leaped', 'let', 'lifted', 'liked', 'little', 'long', 'made', 'making', 'me', 'me.', 'meanwhile,', 'merry', 'moment', 'mother', 'mother.', 'moving', 'mr.', 'music', 'near', 'nibbling', 'no', 'noises', 'not', 'of', 'on', 'once', 'one', 'over', 'paid', 'pasture', 'pasture.', 'pipe', 'piper', 'piping', 'please', 'pricked', 'purpose.', 'racing', 'ran,', 'recognized', 'right', 'said', 'scary', 'shadows', 'shepherd', 'shivered', 'should', 'sings', 'sinking.', 'slowly', 'so', 'song', 'started', 'still', 'struck', 'stuck', 'suddenly,', 'sun', 'take', 'tender', 'terrible', 'the', 'their', 'them', 'then', 'there', 'they', 'think', 'thought', 'to', 'trade.', 'trees,', 'trembling,', 'tune', 'tune,', 'turn', 'turning', 'up', 'want', 'was', 'were', 'when', 'whose', 'wildly', 'wind', 'with', 'wolf', 'wolf!', \"wolf's\", 'wolf,”', 'wolf.', 'you', 'your', '“i', '“please,']\n"
          ]
        }
      ]
    },
    {
      "cell_type": "code",
      "source": [
        "text = \"\"\"\n",
        "When violence in Israel and Gaza escalated after last month's terror attack by Hamas, the International Olympic Committee (IOC) issued a statement warning against \"discriminatory behavior\" against Israeli athletes competing around the world.\n",
        "\n",
        "\"[A]thletes cannot be held responsible for the actions of their governments,\" an IOC spokesperson told the German Press Agency, promising \"swift action\" if incidents occur.\n",
        "\n",
        "Russian officials reacted angrily to the IOC's stance toward Israel, noting that in October the Russian Olympic Committee was suspended for actions taken in occupied regions of eastern Ukraine.\n",
        "\n",
        "\"This is, of course, outrageous,\" said Russian Foreign Minister Sergey Lavrov, in an interview posted on Telegram. \"Once again we see an example of the bias and ineptitude of the International Olympic Committee, which time and again proves its political bent.\"\n",
        "\"\"\"\n",
        "\n",
        "count = len(text)\n",
        "print(count)\n",
        "print('The text of the article:', text)"
      ],
      "metadata": {
        "colab": {
          "base_uri": "https://localhost:8080/"
        },
        "id": "ZCmTgA_eFzzw",
        "outputId": "97f7d64e-b981-4334-ce14-1d6970efeafe"
      },
      "execution_count": 12,
      "outputs": [
        {
          "output_type": "stream",
          "name": "stdout",
          "text": [
            "874\n",
            "The text of the article: \n",
            "When violence in Israel and Gaza escalated after last month's terror attack by Hamas, the International Olympic Committee (IOC) issued a statement warning against \"discriminatory behavior\" against Israeli athletes competing around the world.\n",
            "\n",
            "\"[A]thletes cannot be held responsible for the actions of their governments,\" an IOC spokesperson told the German Press Agency, promising \"swift action\" if incidents occur.\n",
            "\n",
            "Russian officials reacted angrily to the IOC's stance toward Israel, noting that in October the Russian Olympic Committee was suspended for actions taken in occupied regions of eastern Ukraine.\n",
            "\n",
            "\"This is, of course, outrageous,\" said Russian Foreign Minister Sergey Lavrov, in an interview posted on Telegram. \"Once again we see an example of the bias and ineptitude of the International Olympic Committee, which time and again proves its political bent.\"\n",
            "\n"
          ]
        }
      ]
    },
    {
      "cell_type": "code",
      "source": [
        "text = \"\"\"\n",
        "When violence in Israel and Gaza escalated after last month's terror attack by Hamas, the International Olympic Committee (IOC) issued a statement warning against \"discriminatory behavior\" against Israeli athletes competing around the world.\n",
        "\n",
        "\"[A]thletes cannot be held responsible for the actions of their governments,\" an IOC spokesperson told the German Press Agency, promising \"swift action\" if incidents occur.\n",
        "\n",
        "Russian officials reacted angrily to the IOC's stance toward Israel, noting that in October the Russian Olympic Committee was suspended for actions taken in occupied regions of eastern Ukraine.\n",
        "\n",
        "\"This is, of course, outrageous,\" said Russian Foreign Minister Sergey Lavrov, in an interview posted on Telegram. \"Once again we see an example of the bias and ineptitude of the International Olympic Committee, which time and again proves its political bent.\"\n",
        "\"\"\"\n",
        "\n",
        "text_nl = text.replace('\\n', ' ')\n",
        "\n",
        "count = len(text)\n",
        "print(count)\n",
        "print('The text of the article:', text_nl)"
      ],
      "metadata": {
        "colab": {
          "base_uri": "https://localhost:8080/"
        },
        "id": "2OntFbvNF3fR",
        "outputId": "30a6df0e-eab4-4386-c1f8-8ed20208c98a"
      },
      "execution_count": 13,
      "outputs": [
        {
          "output_type": "stream",
          "name": "stdout",
          "text": [
            "874\n",
            "The text of the article:  When violence in Israel and Gaza escalated after last month's terror attack by Hamas, the International Olympic Committee (IOC) issued a statement warning against \"discriminatory behavior\" against Israeli athletes competing around the world.  \"[A]thletes cannot be held responsible for the actions of their governments,\" an IOC spokesperson told the German Press Agency, promising \"swift action\" if incidents occur.  Russian officials reacted angrily to the IOC's stance toward Israel, noting that in October the Russian Olympic Committee was suspended for actions taken in occupied regions of eastern Ukraine.  \"This is, of course, outrageous,\" said Russian Foreign Minister Sergey Lavrov, in an interview posted on Telegram. \"Once again we see an example of the bias and ineptitude of the International Olympic Committee, which time and again proves its political bent.\" \n"
          ]
        }
      ]
    },
    {
      "cell_type": "code",
      "source": [
        "text1 = \"\"\"\n",
        "Mimi Kim, teaching professor of Korean language, is the co-author of a new Korean language textbook that uses folktales as a springboard for language learning.\\n\n",
        "The 21 stories that make up Tigers, Fairies, and Gods: Enchanting Folktales from Korea progress through increasingly challenging levels of diction and vocabulary while developing students’ cultural literacy.\\n\n",
        "Every semester, Mimi Kim asks her Korean language students at WashU to write their own Korean-style folktales. She says that folktales are “rich in cultural context, and so they provide a very effective backdrop for discussions about cultural practices and perspectives. Students really get into our discussions about commonalities and differences between Korean folktales and the stories that they grew up with in their own communities.” Kim sees cultural literacy as a key tool for the language classroom. Tigers, Fairies, and Gods grew out of that idea.\\n\n",
        "The book is an unusually rich visual object, with vibrant illustrations done in a style that is evocative of Korean animation. Kim and her co-author, Angela Lee-Smith of Yale University, use visual and linguistic cues to engage with students’ cultural knowledge. In “Sister Sun and Brother Moon,” for example, a brother and sister encounter a tiger in their mother’s clothing in a scene that might evoke echoes of “Little Red Riding Hood” for readers who grew up with the Grimm brothers’ tales.\\n\n",
        "That kind of cross-cultural comparison is exactly what we hope for in humanities education, Kim says. “By learning a new language you gain a richer understanding of cultural differences and similarities,” she says. “Folktales are a natural tool for that work. They just needed to be put together in a way that was more useful for students.”\n",
        "\"\"\"\n",
        "\n",
        "def tokenize_and_lower(text):\n",
        "    text = text.replace(\"\\n\", \" \")\n",
        "    words = text.split()\n",
        "    words_lower = [word.lower() for word in words]\n",
        "    return words_lower\n",
        "\n",
        "count1 = len(text1)\n",
        "print(count1)\n",
        "\n",
        "text2 = text1.replace('\\n', ' ')\n",
        "count2 = len(text2)\n",
        "print(count2)\n",
        "\n",
        "print('The text of the article:', text1)\n",
        "print('The text of the article without lines:', text2)\n",
        "\n",
        "tokens_lower = tokenize_and_lower(text1)\n",
        "\n",
        "unique_words = set(tokens_lower)\n",
        "ttr = len(unique_words) / len(tokens_lower)\n",
        "\n",
        "print(\"Type-Token Ratio (TTR):\", ttr)\n",
        "print(\"Tokens in Lowercase:\", tokens_lower)\n",
        "print(\"Unique words (Types):\", sorted(unique_words))"
      ],
      "metadata": {
        "colab": {
          "base_uri": "https://localhost:8080/"
        },
        "id": "ChWQUEWhF-O9",
        "outputId": "d1ac3e0a-78a9-4921-e093-1682cfc72e90"
      },
      "execution_count": 14,
      "outputs": [
        {
          "output_type": "stream",
          "name": "stdout",
          "text": [
            "1766\n",
            "1766\n",
            "The text of the article: \n",
            "Mimi Kim, teaching professor of Korean language, is the co-author of a new Korean language textbook that uses folktales as a springboard for language learning.\n",
            "\n",
            "The 21 stories that make up Tigers, Fairies, and Gods: Enchanting Folktales from Korea progress through increasingly challenging levels of diction and vocabulary while developing students’ cultural literacy.\n",
            "\n",
            "Every semester, Mimi Kim asks her Korean language students at WashU to write their own Korean-style folktales. She says that folktales are “rich in cultural context, and so they provide a very effective backdrop for discussions about cultural practices and perspectives. Students really get into our discussions about commonalities and differences between Korean folktales and the stories that they grew up with in their own communities.” Kim sees cultural literacy as a key tool for the language classroom. Tigers, Fairies, and Gods grew out of that idea.\n",
            "\n",
            "The book is an unusually rich visual object, with vibrant illustrations done in a style that is evocative of Korean animation. Kim and her co-author, Angela Lee-Smith of Yale University, use visual and linguistic cues to engage with students’ cultural knowledge. In “Sister Sun and Brother Moon,” for example, a brother and sister encounter a tiger in their mother’s clothing in a scene that might evoke echoes of “Little Red Riding Hood” for readers who grew up with the Grimm brothers’ tales.\n",
            "\n",
            "That kind of cross-cultural comparison is exactly what we hope for in humanities education, Kim says. “By learning a new language you gain a richer understanding of cultural differences and similarities,” she says. “Folktales are a natural tool for that work. They just needed to be put together in a way that was more useful for students.”\n",
            "\n",
            "The text of the article without lines:  Mimi Kim, teaching professor of Korean language, is the co-author of a new Korean language textbook that uses folktales as a springboard for language learning.  The 21 stories that make up Tigers, Fairies, and Gods: Enchanting Folktales from Korea progress through increasingly challenging levels of diction and vocabulary while developing students’ cultural literacy.  Every semester, Mimi Kim asks her Korean language students at WashU to write their own Korean-style folktales. She says that folktales are “rich in cultural context, and so they provide a very effective backdrop for discussions about cultural practices and perspectives. Students really get into our discussions about commonalities and differences between Korean folktales and the stories that they grew up with in their own communities.” Kim sees cultural literacy as a key tool for the language classroom. Tigers, Fairies, and Gods grew out of that idea.  The book is an unusually rich visual object, with vibrant illustrations done in a style that is evocative of Korean animation. Kim and her co-author, Angela Lee-Smith of Yale University, use visual and linguistic cues to engage with students’ cultural knowledge. In “Sister Sun and Brother Moon,” for example, a brother and sister encounter a tiger in their mother’s clothing in a scene that might evoke echoes of “Little Red Riding Hood” for readers who grew up with the Grimm brothers’ tales.  That kind of cross-cultural comparison is exactly what we hope for in humanities education, Kim says. “By learning a new language you gain a richer understanding of cultural differences and similarities,” she says. “Folktales are a natural tool for that work. They just needed to be put together in a way that was more useful for students.” \n",
            "Type-Token Ratio (TTR): 0.5985663082437276\n",
            "Tokens in Lowercase: ['mimi', 'kim,', 'teaching', 'professor', 'of', 'korean', 'language,', 'is', 'the', 'co-author', 'of', 'a', 'new', 'korean', 'language', 'textbook', 'that', 'uses', 'folktales', 'as', 'a', 'springboard', 'for', 'language', 'learning.', 'the', '21', 'stories', 'that', 'make', 'up', 'tigers,', 'fairies,', 'and', 'gods:', 'enchanting', 'folktales', 'from', 'korea', 'progress', 'through', 'increasingly', 'challenging', 'levels', 'of', 'diction', 'and', 'vocabulary', 'while', 'developing', 'students’', 'cultural', 'literacy.', 'every', 'semester,', 'mimi', 'kim', 'asks', 'her', 'korean', 'language', 'students', 'at', 'washu', 'to', 'write', 'their', 'own', 'korean-style', 'folktales.', 'she', 'says', 'that', 'folktales', 'are', '“rich', 'in', 'cultural', 'context,', 'and', 'so', 'they', 'provide', 'a', 'very', 'effective', 'backdrop', 'for', 'discussions', 'about', 'cultural', 'practices', 'and', 'perspectives.', 'students', 'really', 'get', 'into', 'our', 'discussions', 'about', 'commonalities', 'and', 'differences', 'between', 'korean', 'folktales', 'and', 'the', 'stories', 'that', 'they', 'grew', 'up', 'with', 'in', 'their', 'own', 'communities.”', 'kim', 'sees', 'cultural', 'literacy', 'as', 'a', 'key', 'tool', 'for', 'the', 'language', 'classroom.', 'tigers,', 'fairies,', 'and', 'gods', 'grew', 'out', 'of', 'that', 'idea.', 'the', 'book', 'is', 'an', 'unusually', 'rich', 'visual', 'object,', 'with', 'vibrant', 'illustrations', 'done', 'in', 'a', 'style', 'that', 'is', 'evocative', 'of', 'korean', 'animation.', 'kim', 'and', 'her', 'co-author,', 'angela', 'lee-smith', 'of', 'yale', 'university,', 'use', 'visual', 'and', 'linguistic', 'cues', 'to', 'engage', 'with', 'students’', 'cultural', 'knowledge.', 'in', '“sister', 'sun', 'and', 'brother', 'moon,”', 'for', 'example,', 'a', 'brother', 'and', 'sister', 'encounter', 'a', 'tiger', 'in', 'their', 'mother’s', 'clothing', 'in', 'a', 'scene', 'that', 'might', 'evoke', 'echoes', 'of', '“little', 'red', 'riding', 'hood”', 'for', 'readers', 'who', 'grew', 'up', 'with', 'the', 'grimm', 'brothers’', 'tales.', 'that', 'kind', 'of', 'cross-cultural', 'comparison', 'is', 'exactly', 'what', 'we', 'hope', 'for', 'in', 'humanities', 'education,', 'kim', 'says.', '“by', 'learning', 'a', 'new', 'language', 'you', 'gain', 'a', 'richer', 'understanding', 'of', 'cultural', 'differences', 'and', 'similarities,”', 'she', 'says.', '“folktales', 'are', 'a', 'natural', 'tool', 'for', 'that', 'work.', 'they', 'just', 'needed', 'to', 'be', 'put', 'together', 'in', 'a', 'way', 'that', 'was', 'more', 'useful', 'for', 'students.”']\n",
            "Unique words (Types): ['21', 'a', 'about', 'an', 'and', 'angela', 'animation.', 'are', 'as', 'asks', 'at', 'backdrop', 'be', 'between', 'book', 'brother', 'brothers’', 'challenging', 'classroom.', 'clothing', 'co-author', 'co-author,', 'commonalities', 'communities.”', 'comparison', 'context,', 'cross-cultural', 'cues', 'cultural', 'developing', 'diction', 'differences', 'discussions', 'done', 'echoes', 'education,', 'effective', 'enchanting', 'encounter', 'engage', 'every', 'evocative', 'evoke', 'exactly', 'example,', 'fairies,', 'folktales', 'folktales.', 'for', 'from', 'gain', 'get', 'gods', 'gods:', 'grew', 'grimm', 'her', 'hood”', 'hope', 'humanities', 'idea.', 'illustrations', 'in', 'increasingly', 'into', 'is', 'just', 'key', 'kim', 'kim,', 'kind', 'knowledge.', 'korea', 'korean', 'korean-style', 'language', 'language,', 'learning', 'learning.', 'lee-smith', 'levels', 'linguistic', 'literacy', 'literacy.', 'make', 'might', 'mimi', 'moon,”', 'more', 'mother’s', 'natural', 'needed', 'new', 'object,', 'of', 'our', 'out', 'own', 'perspectives.', 'practices', 'professor', 'progress', 'provide', 'put', 'readers', 'really', 'red', 'rich', 'richer', 'riding', 'says', 'says.', 'scene', 'sees', 'semester,', 'she', 'similarities,”', 'sister', 'so', 'springboard', 'stories', 'students', 'students.”', 'students’', 'style', 'sun', 'tales.', 'teaching', 'textbook', 'that', 'the', 'their', 'they', 'through', 'tiger', 'tigers,', 'to', 'together', 'tool', 'understanding', 'university,', 'unusually', 'up', 'use', 'useful', 'uses', 'very', 'vibrant', 'visual', 'vocabulary', 'was', 'washu', 'way', 'we', 'what', 'while', 'who', 'with', 'work.', 'write', 'yale', 'you', '“by', '“folktales', '“little', '“rich', '“sister']\n"
          ]
        }
      ]
    },
    {
      "cell_type": "code",
      "source": [
        "text1 = \"\"\"\n",
        " Mimi Kim, teaching professor of Korean language, is the co-author of a new Korean language textbook that uses folktales as a springboard for language learning.  The 21 stories that make up Tigers, Fairies, and Gods: Enchanting Folktales from Korea progress through increasingly challenging levels of diction and vocabulary while developing students’ cultural literacy.  Every semester, Mimi Kim asks her Korean language students at WashU to write their own Korean-style folktales. She says that folktales are “rich in cultural context, and so they provide a very effective backdrop for discussions about cultural practices and perspectives. Students really get into our discussions about commonalities and differences between Korean folktales and the stories that they grew up with in their own communities.” Kim sees cultural literacy as a key tool for the language classroom. Tigers, Fairies, and Gods grew out of that idea.  The book is an unusually rich visual object, with vibrant illustrations done in a style that is evocative of Korean animation. Kim and her co-author, Angela Lee-Smith of Yale University, use visual and linguistic cues to engage with students’ cultural knowledge. In “Sister Sun and Brother Moon,” for example, a brother and sister encounter a tiger in their mother’s clothing in a scene that might evoke echoes of “Little Red Riding Hood” for readers who grew up with the Grimm brothers’ tales.  That kind of cross-cultural comparison is exactly what we hope for in humanities education, Kim says. “By learning a new language you gain a richer understanding of cultural differences and similarities,” she says. “Folktales are a natural tool for that work. They just needed to be put together in a way that was more useful for students.”\n",
        "\"\"\"\n",
        "def tokenize_and_lower(text):\n",
        "    text = text.replace(\"\\n\", \" \")\n",
        "    words = text.split()\n",
        "    words_lower = [word.lower() for word in words]\n",
        "    return words_lower\n",
        "\n",
        "count1 = len(text1)\n",
        "print(count1)\n",
        "\n",
        "text2 = text1.replace('\\n', ' ')\n",
        "count2 = len(text2)"
      ],
      "metadata": {
        "colab": {
          "base_uri": "https://localhost:8080/"
        },
        "id": "ZYoOQFckGNdu",
        "outputId": "95241ee1-d0c3-4a70-e9dc-04160f570aab"
      },
      "execution_count": 15,
      "outputs": [
        {
          "output_type": "stream",
          "name": "stdout",
          "text": [
            "1767\n"
          ]
        }
      ]
    },
    {
      "cell_type": "code",
      "source": [
        "import urllib.request\n",
        "url = \"https://raw.githubusercontent.com/tunip0067/Temp_data/main/Article_about_enchanting_folktakes_from_Korea.txt\"\n",
        "response = urllib.request.urlopen(url)\n",
        "content = response.read().decode('utf-8')\n",
        "\n",
        "print(content)\n",
        "\n",
        "words = content.split()\n",
        "\n",
        "unique_words = set(words)\n",
        "ttr = len(unique_words) / len(words)\n",
        "\n",
        "print(\"Type-Token Ratio (TTR):\", ttr)\n",
        "print(\"Unique words (Types):\", sorted(unique_words))\n",
        "print(\"Tokens:\", words)"
      ],
      "metadata": {
        "colab": {
          "base_uri": "https://localhost:8080/"
        },
        "id": "4AMGScVoGU4Z",
        "outputId": "5ad19f4f-1973-4694-9b46-9cd97531a336"
      },
      "execution_count": 16,
      "outputs": [
        {
          "output_type": "stream",
          "name": "stdout",
          "text": [
            "Mimi Kim, teaching professor of Korean language, is the co-author of a new Korean language textbook that uses folktales as a springboard for language learning.\n",
            "The 21 stories that make up Tigers, Fairies, and Gods: Enchanting Folktales from Korea progress through increasingly challenging levels of diction and vocabulary while developing students’ cultural literacy.\\n\n",
            "Every semester, Mimi Kim asks her Korean language students at WashU to write their own Korean-style folktales. She says that folktales are “rich in cultural context, and so they provide a very effective backdrop for discussions about cultural practices and perspectives. Students really get into our discussions about commonalities and differences between Korean folktales and the stories that they grew up with in their own communities.” Kim sees cultural literacy as a key tool for the language classroom. Tigers, Fairies, and Gods grew out of that idea.\\n\n",
            "The book is an unusually rich visual object, with vibrant illustrations done in a style that is evocative of Korean animation. Kim and her co-author, Angela Lee-Smith of Yale University, use visual and linguistic cues to engage with students’ cultural knowledge. In “Sister Sun and Brother Moon,” for example, a brother and sister encounter a tiger in their mother’s clothing in a scene that might evoke echoes of “Little Red Riding Hood” for readers who grew up with the Grimm brothers’ tales.\n",
            "That kind of cross-cultural comparison is exactly what we hope for in humanities education, Kim says. “By learning a new language you gain a richer understanding of cultural differences and similarities,” she says. “Folktales are a natural tool for that work. They just needed to be put together in a way that was more useful for students.”\n",
            "\n",
            "Type-Token Ratio (TTR): 0.6272401433691757\n",
            "Unique words (Types): ['21', 'Angela', 'Brother', 'Enchanting', 'Every', 'Fairies,', 'Folktales', 'Gods', 'Gods:', 'Grimm', 'Hood”', 'In', 'Kim', 'Kim,', 'Korea', 'Korean', 'Korean-style', 'Lee-Smith', 'Mimi', 'Moon,”', 'Red', 'Riding', 'She', 'Students', 'Sun', 'That', 'The', 'They', 'Tigers,', 'University,', 'WashU', 'Yale', 'a', 'about', 'an', 'and', 'animation.', 'are', 'as', 'asks', 'at', 'backdrop', 'be', 'between', 'book', 'brother', 'brothers’', 'challenging', 'classroom.', 'clothing', 'co-author', 'co-author,', 'commonalities', 'communities.”', 'comparison', 'context,', 'cross-cultural', 'cues', 'cultural', 'developing', 'diction', 'differences', 'discussions', 'done', 'echoes', 'education,', 'effective', 'encounter', 'engage', 'evocative', 'evoke', 'exactly', 'example,', 'folktales', 'folktales.', 'for', 'from', 'gain', 'get', 'grew', 'her', 'hope', 'humanities', 'idea.\\\\n', 'illustrations', 'in', 'increasingly', 'into', 'is', 'just', 'key', 'kind', 'knowledge.', 'language', 'language,', 'learning', 'learning.', 'levels', 'linguistic', 'literacy', 'literacy.\\\\n', 'make', 'might', 'more', 'mother’s', 'natural', 'needed', 'new', 'object,', 'of', 'our', 'out', 'own', 'perspectives.', 'practices', 'professor', 'progress', 'provide', 'put', 'readers', 'really', 'rich', 'richer', 'says', 'says.', 'scene', 'sees', 'semester,', 'she', 'similarities,”', 'sister', 'so', 'springboard', 'stories', 'students', 'students.”', 'students’', 'style', 'tales.', 'teaching', 'textbook', 'that', 'the', 'their', 'they', 'through', 'tiger', 'to', 'together', 'tool', 'understanding', 'unusually', 'up', 'use', 'useful', 'uses', 'very', 'vibrant', 'visual', 'vocabulary', 'was', 'way', 'we', 'what', 'while', 'who', 'with', 'work.', 'write', 'you', '“By', '“Folktales', '“Little', '“Sister', '“rich']\n",
            "Tokens: ['Mimi', 'Kim,', 'teaching', 'professor', 'of', 'Korean', 'language,', 'is', 'the', 'co-author', 'of', 'a', 'new', 'Korean', 'language', 'textbook', 'that', 'uses', 'folktales', 'as', 'a', 'springboard', 'for', 'language', 'learning.', 'The', '21', 'stories', 'that', 'make', 'up', 'Tigers,', 'Fairies,', 'and', 'Gods:', 'Enchanting', 'Folktales', 'from', 'Korea', 'progress', 'through', 'increasingly', 'challenging', 'levels', 'of', 'diction', 'and', 'vocabulary', 'while', 'developing', 'students’', 'cultural', 'literacy.\\\\n', 'Every', 'semester,', 'Mimi', 'Kim', 'asks', 'her', 'Korean', 'language', 'students', 'at', 'WashU', 'to', 'write', 'their', 'own', 'Korean-style', 'folktales.', 'She', 'says', 'that', 'folktales', 'are', '“rich', 'in', 'cultural', 'context,', 'and', 'so', 'they', 'provide', 'a', 'very', 'effective', 'backdrop', 'for', 'discussions', 'about', 'cultural', 'practices', 'and', 'perspectives.', 'Students', 'really', 'get', 'into', 'our', 'discussions', 'about', 'commonalities', 'and', 'differences', 'between', 'Korean', 'folktales', 'and', 'the', 'stories', 'that', 'they', 'grew', 'up', 'with', 'in', 'their', 'own', 'communities.”', 'Kim', 'sees', 'cultural', 'literacy', 'as', 'a', 'key', 'tool', 'for', 'the', 'language', 'classroom.', 'Tigers,', 'Fairies,', 'and', 'Gods', 'grew', 'out', 'of', 'that', 'idea.\\\\n', 'The', 'book', 'is', 'an', 'unusually', 'rich', 'visual', 'object,', 'with', 'vibrant', 'illustrations', 'done', 'in', 'a', 'style', 'that', 'is', 'evocative', 'of', 'Korean', 'animation.', 'Kim', 'and', 'her', 'co-author,', 'Angela', 'Lee-Smith', 'of', 'Yale', 'University,', 'use', 'visual', 'and', 'linguistic', 'cues', 'to', 'engage', 'with', 'students’', 'cultural', 'knowledge.', 'In', '“Sister', 'Sun', 'and', 'Brother', 'Moon,”', 'for', 'example,', 'a', 'brother', 'and', 'sister', 'encounter', 'a', 'tiger', 'in', 'their', 'mother’s', 'clothing', 'in', 'a', 'scene', 'that', 'might', 'evoke', 'echoes', 'of', '“Little', 'Red', 'Riding', 'Hood”', 'for', 'readers', 'who', 'grew', 'up', 'with', 'the', 'Grimm', 'brothers’', 'tales.', 'That', 'kind', 'of', 'cross-cultural', 'comparison', 'is', 'exactly', 'what', 'we', 'hope', 'for', 'in', 'humanities', 'education,', 'Kim', 'says.', '“By', 'learning', 'a', 'new', 'language', 'you', 'gain', 'a', 'richer', 'understanding', 'of', 'cultural', 'differences', 'and', 'similarities,”', 'she', 'says.', '“Folktales', 'are', 'a', 'natural', 'tool', 'for', 'that', 'work.', 'They', 'just', 'needed', 'to', 'be', 'put', 'together', 'in', 'a', 'way', 'that', 'was', 'more', 'useful', 'for', 'students.”']\n"
          ]
        }
      ]
    }
  ]
}