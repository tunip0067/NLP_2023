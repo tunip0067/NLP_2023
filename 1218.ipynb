{
  "nbformat": 4,
  "nbformat_minor": 0,
  "metadata": {
    "colab": {
      "provenance": [],
      "authorship_tag": "ABX9TyPD8jPnzKSVCh116y7ns7/1",
      "include_colab_link": true
    },
    "kernelspec": {
      "name": "python3",
      "display_name": "Python 3"
    },
    "language_info": {
      "name": "python"
    }
  },
  "cells": [
    {
      "cell_type": "markdown",
      "metadata": {
        "id": "view-in-github",
        "colab_type": "text"
      },
      "source": [
        "<a href=\"https://colab.research.google.com/github/tunip0067/NLP_2023/blob/main/1218.ipynb\" target=\"_parent\"><img src=\"https://colab.research.google.com/assets/colab-badge.svg\" alt=\"Open In Colab\"/></a>"
      ]
    },
    {
      "cell_type": "code",
      "execution_count": 1,
      "metadata": {
        "colab": {
          "base_uri": "https://localhost:8080/"
        },
        "id": "_FlMoA2J1SVt",
        "outputId": "e8b05dfc-787e-4da4-f976-14840c3c11d2"
      },
      "outputs": [
        {
          "output_type": "stream",
          "name": "stdout",
          "text": [
            "Match: cat\n",
            "Match: hat\n",
            "Match: bat\n",
            "Match: sat\n",
            "Match: mat\n",
            "Match: bat\n",
            "Match: bat\n"
          ]
        }
      ],
      "source": [
        "import re\n",
        "\n",
        "text = \"cat, hat, bat, sat, mat, combat, unbated\"\n",
        "pattern = r\".at\"\n",
        "\n",
        "matches = re.findall(pattern, text)\n",
        "\n",
        "for match in matches:\n",
        "    print(\"Match:\", match)"
      ]
    },
    {
      "cell_type": "code",
      "source": [
        "import re\n",
        "\n",
        "text = \"color or colour?\"\n",
        "pattern = r\"colou?r\"\n",
        "\n",
        "matches = re.findall(pattern, text)\n",
        "\n",
        "for i in matches:\n",
        "    print(\"Match:\", i)"
      ],
      "metadata": {
        "colab": {
          "base_uri": "https://localhost:8080/"
        },
        "id": "qhV9YHbJ1mT9",
        "outputId": "9148e8bd-9f63-4c7a-91f7-24b1aab79ffe"
      },
      "execution_count": 2,
      "outputs": [
        {
          "output_type": "stream",
          "name": "stdout",
          "text": [
            "Match: color\n",
            "Match: colour\n"
          ]
        }
      ]
    },
    {
      "cell_type": "code",
      "source": [
        "text2 = \"color, colour, or coloer?\"\n",
        "pattern = r\"colou?r\"\n",
        "\n",
        "matches = re.findall(pattern, text2)\n",
        "\n",
        "for i in matches:\n",
        "    print(\"Match:\", i)"
      ],
      "metadata": {
        "colab": {
          "base_uri": "https://localhost:8080/"
        },
        "id": "dF1KxVZA1ohm",
        "outputId": "d7958963-be49-4c94-a7ac-bfae9354504f"
      },
      "execution_count": 3,
      "outputs": [
        {
          "output_type": "stream",
          "name": "stdout",
          "text": [
            "Match: color\n",
            "Match: colour\n"
          ]
        }
      ]
    },
    {
      "cell_type": "code",
      "source": [
        "import re\n",
        "\n",
        "text = \"ab, ac, abc, abbc, aabbc, abbbbbbbbbbbbbbc\"\n",
        "pattern = r\"ab*c\"\n",
        "\n",
        "matches = re.findall(pattern, text)\n",
        "\n",
        "for i in matches:\n",
        "    print(\"Match:\", i)"
      ],
      "metadata": {
        "colab": {
          "base_uri": "https://localhost:8080/"
        },
        "id": "CSsEzxei1uOC",
        "outputId": "efa3bae2-9947-4ba4-bc91-bec33aaf62f2"
      },
      "execution_count": 4,
      "outputs": [
        {
          "output_type": "stream",
          "name": "stdout",
          "text": [
            "Match: ac\n",
            "Match: abc\n",
            "Match: abbc\n",
            "Match: abbc\n",
            "Match: abbbbbbbbbbbbbbc\n"
          ]
        }
      ]
    },
    {
      "cell_type": "code",
      "source": [
        "import re\n",
        "\n",
        "text = \"Python is a popular programming language. Python is versatile.\"\n",
        "pattern = r'versatile.$'\n",
        "\n",
        "matches = re.findall(pattern, text)\n",
        "\n",
        "for i in matches:\n",
        "    print(\"Match:\", i)"
      ],
      "metadata": {
        "colab": {
          "base_uri": "https://localhost:8080/"
        },
        "id": "gvq6n_e013WN",
        "outputId": "90ddbfda-0913-4897-f669-06085dc0611e"
      },
      "execution_count": 5,
      "outputs": [
        {
          "output_type": "stream",
          "name": "stdout",
          "text": [
            "Match: versatile.\n"
          ]
        }
      ]
    },
    {
      "cell_type": "code",
      "source": [
        "import re\n",
        "\n",
        "text = \"Python is a popular programming language. Python is versatile.\"\n",
        "pattern = r'tile.$'\n",
        "\n",
        "matches = re.findall(pattern, text)\n",
        "\n",
        "for i in matches:\n",
        "    print(\"Match:\", i)"
      ],
      "metadata": {
        "colab": {
          "base_uri": "https://localhost:8080/"
        },
        "id": "BudCFT4g17VD",
        "outputId": "94004a7f-3d43-4f41-a961-a5ad81b30609"
      },
      "execution_count": 6,
      "outputs": [
        {
          "output_type": "stream",
          "name": "stdout",
          "text": [
            "Match: tile.\n"
          ]
        }
      ]
    },
    {
      "cell_type": "code",
      "source": [
        "import re\n",
        "\n",
        "text = \"Python is a programming language. Python is versatile. We all love Python.\"\n",
        "pattern = r'^Python'\n",
        "\n",
        "matches = re.findall(pattern, text)\n",
        "\n",
        "for i in matches:\n",
        "    print(\"Match:\", i)"
      ],
      "metadata": {
        "colab": {
          "base_uri": "https://localhost:8080/"
        },
        "id": "t-r7oAu52CNc",
        "outputId": "9a7855b5-e106-436d-cb9f-62b56ef6a0e6"
      },
      "execution_count": 7,
      "outputs": [
        {
          "output_type": "stream",
          "name": "stdout",
          "text": [
            "Match: Python\n"
          ]
        }
      ]
    },
    {
      "cell_type": "code",
      "source": [
        "import re\n",
        "\n",
        "text = \"Python is a programming language. Python is versatile. We all love Python.\"\n",
        "pattern = r'^is'\n",
        "\n",
        "matches = re.findall(pattern, text)\n",
        "\n",
        "for i in matches:\n",
        "    print(\"Match:\", i)"
      ],
      "metadata": {
        "id": "fukRxV2q2IZs"
      },
      "execution_count": 8,
      "outputs": []
    },
    {
      "cell_type": "code",
      "source": [
        "import re\n",
        "\n",
        "text = \"cat, caat, caaat, sat, set\"\n",
        "pattern = r\"ca+t\"\n",
        "\n",
        "matches = re.findall(pattern, text)\n",
        "\n",
        "for i in matches:\n",
        "    print(\"Match:\", i)"
      ],
      "metadata": {
        "colab": {
          "base_uri": "https://localhost:8080/"
        },
        "id": "wWFyppnn2PJ4",
        "outputId": "f96ed913-c15d-4ab5-cc64-bcd8002b6d40"
      },
      "execution_count": 9,
      "outputs": [
        {
          "output_type": "stream",
          "name": "stdout",
          "text": [
            "Match: cat\n",
            "Match: caat\n",
            "Match: caaat\n"
          ]
        }
      ]
    },
    {
      "cell_type": "code",
      "source": [
        "import re\n",
        "\n",
        "text = \"cat, caat, caaat, sat, set\"\n",
        "pattern = r\"a+t\"\n",
        "\n",
        "matches = re.findall(pattern, text)\n",
        "\n",
        "for i in matches:\n",
        "    print(\"Match:\", i)"
      ],
      "metadata": {
        "colab": {
          "base_uri": "https://localhost:8080/"
        },
        "id": "snbQB9JI2V8W",
        "outputId": "7dc173a9-0d57-48cb-c1a9-a75444a24160"
      },
      "execution_count": 10,
      "outputs": [
        {
          "output_type": "stream",
          "name": "stdout",
          "text": [
            "Match: at\n",
            "Match: aat\n",
            "Match: aaat\n",
            "Match: at\n"
          ]
        }
      ]
    },
    {
      "cell_type": "code",
      "source": [
        "import re\n",
        "\n",
        "text = \"123 4567 89 12345\"\n",
        "pattern = r\"\\d{3}\"\n",
        "matches = re.findall(pattern, text)\n",
        "\n",
        "for i in matches:\n",
        "    print(\"Match:\", i)"
      ],
      "metadata": {
        "colab": {
          "base_uri": "https://localhost:8080/"
        },
        "id": "wsVOTo_X2YT8",
        "outputId": "316843af-55be-436e-c8bd-9c7cb7d5f2d1"
      },
      "execution_count": 11,
      "outputs": [
        {
          "output_type": "stream",
          "name": "stdout",
          "text": [
            "Match: 123\n",
            "Match: 456\n",
            "Match: 123\n"
          ]
        }
      ]
    },
    {
      "cell_type": "code",
      "source": [
        "import re\n",
        "\n",
        "text = \"The numbers are 12345678999, 12345, 987, and 56789.\"\n",
        "pattern = r\"\\d{3,5}\"\n",
        "matches = re.findall(pattern, text)\n",
        "\n",
        "for i in matches:\n",
        "    print(\"Match:\", i)"
      ],
      "metadata": {
        "colab": {
          "base_uri": "https://localhost:8080/"
        },
        "id": "fNmotEJk2dYY",
        "outputId": "4fb5d9f3-0d76-4622-e386-4b68c794cbbf"
      },
      "execution_count": 12,
      "outputs": [
        {
          "output_type": "stream",
          "name": "stdout",
          "text": [
            "Match: 12345\n",
            "Match: 67899\n",
            "Match: 12345\n",
            "Match: 987\n",
            "Match: 56789\n"
          ]
        }
      ]
    },
    {
      "cell_type": "code",
      "source": [
        "import re\n",
        "\n",
        "text = \"The word 'hello' is repeated many times: hello hello hello hello hello\"\n",
        "pattern = r\"(hello ){2,}\"\n",
        "matches = re.findall(pattern, text)\n",
        "\n",
        "for i in matches:\n",
        "    print(\"Match:\", i)"
      ],
      "metadata": {
        "colab": {
          "base_uri": "https://localhost:8080/"
        },
        "id": "bcdutixv2gjO",
        "outputId": "053395c8-ab96-48f3-bb70-60df32ba0893"
      },
      "execution_count": 13,
      "outputs": [
        {
          "output_type": "stream",
          "name": "stdout",
          "text": [
            "Match: hello \n"
          ]
        }
      ]
    },
    {
      "cell_type": "code",
      "source": [
        "import re\n",
        "\n",
        "text = \"The word 'hello' is repeated many times: hellohellohellohellohello hellohellohellohellohello hellohellohellohellohello\"\n",
        "pattern = r\"(hello){2,}\"\n",
        "matches = re.findall(pattern, text)\n",
        "\n",
        "for i in matches:\n",
        "    print(\"Match:\", i)"
      ],
      "metadata": {
        "colab": {
          "base_uri": "https://localhost:8080/"
        },
        "id": "3mjCPa002mKP",
        "outputId": "187a3e82-aae2-45e5-8b0b-87291b08c74b"
      },
      "execution_count": 14,
      "outputs": [
        {
          "output_type": "stream",
          "name": "stdout",
          "text": [
            "Match: hello\n",
            "Match: hello\n",
            "Match: hello\n"
          ]
        }
      ]
    },
    {
      "cell_type": "code",
      "source": [
        "import re\n",
        "\n",
        "text = \"The price is $100.\"\n",
        "pattern = r\"[\\d]\"\n",
        "\n",
        "matches = re.findall(pattern, text)\n",
        "\n",
        "for i in matches:\n",
        "    print(\"Match:\", i)"
      ],
      "metadata": {
        "colab": {
          "base_uri": "https://localhost:8080/"
        },
        "id": "fOpxq-da2sby",
        "outputId": "f768b59a-1ef2-4698-bf31-e99f7e7dc63d"
      },
      "execution_count": 15,
      "outputs": [
        {
          "output_type": "stream",
          "name": "stdout",
          "text": [
            "Match: 1\n",
            "Match: 0\n",
            "Match: 0\n"
          ]
        }
      ]
    },
    {
      "cell_type": "code",
      "source": [
        "import re\n",
        "\n",
        "text = \"The price is $100.\"\n",
        "pattern = r\"[e\\d]\"\n",
        "\n",
        "matches = re.findall(pattern, text)\n",
        "\n",
        "for i in matches:\n",
        "    print(\"Match:\", i)"
      ],
      "metadata": {
        "colab": {
          "base_uri": "https://localhost:8080/"
        },
        "id": "jvoaeLbc2v8x",
        "outputId": "38e7f843-d8ca-4bb9-9673-0f2aa732ba23"
      },
      "execution_count": 16,
      "outputs": [
        {
          "output_type": "stream",
          "name": "stdout",
          "text": [
            "Match: e\n",
            "Match: e\n",
            "Match: 1\n",
            "Match: 0\n",
            "Match: 0\n"
          ]
        }
      ]
    },
    {
      "cell_type": "code",
      "source": [
        "import re\n",
        "\n",
        "text = \"I have an apple and a monkey in the kitchen.\"\n",
        "pattern = r\"[amk]\"\n",
        "matches = re.findall(pattern, text)\n",
        "for i in matches:\n",
        "    print(\"Match:\", i)"
      ],
      "metadata": {
        "colab": {
          "base_uri": "https://localhost:8080/"
        },
        "id": "4CR3gIY020I9",
        "outputId": "94ee2a7b-6571-460b-bd63-98efd12e9bea"
      },
      "execution_count": 17,
      "outputs": [
        {
          "output_type": "stream",
          "name": "stdout",
          "text": [
            "Match: a\n",
            "Match: a\n",
            "Match: a\n",
            "Match: a\n",
            "Match: a\n",
            "Match: m\n",
            "Match: k\n",
            "Match: k\n"
          ]
        }
      ]
    },
    {
      "cell_type": "code",
      "source": [
        "import re\n",
        "\n",
        "text = \"The quick brown fox jumps over the lazy dog.\"\n",
        "pattern = r\"[a-z]\"\n",
        "matches = re.findall(pattern, text)\n",
        "\n",
        "for i in matches:\n",
        "    print(\"Match:\", i)"
      ],
      "metadata": {
        "colab": {
          "base_uri": "https://localhost:8080/"
        },
        "id": "NCnuRSyl27O7",
        "outputId": "ad080095-1054-4a0d-ae53-6630bb92a793"
      },
      "execution_count": 18,
      "outputs": [
        {
          "output_type": "stream",
          "name": "stdout",
          "text": [
            "Match: h\n",
            "Match: e\n",
            "Match: q\n",
            "Match: u\n",
            "Match: i\n",
            "Match: c\n",
            "Match: k\n",
            "Match: b\n",
            "Match: r\n",
            "Match: o\n",
            "Match: w\n",
            "Match: n\n",
            "Match: f\n",
            "Match: o\n",
            "Match: x\n",
            "Match: j\n",
            "Match: u\n",
            "Match: m\n",
            "Match: p\n",
            "Match: s\n",
            "Match: o\n",
            "Match: v\n",
            "Match: e\n",
            "Match: r\n",
            "Match: t\n",
            "Match: h\n",
            "Match: e\n",
            "Match: l\n",
            "Match: a\n",
            "Match: z\n",
            "Match: y\n",
            "Match: d\n",
            "Match: o\n",
            "Match: g\n"
          ]
        }
      ]
    },
    {
      "cell_type": "code",
      "source": [
        "import re\n",
        "\n",
        "text = \"\\\"The book titles are 'The Aesop for Children', 'Harry Potter', and 'Pride and Prejudice',\\\" said Amelia.\"\n",
        "pattern = r\"[A-Z]\"\n",
        "\n",
        "matches = re.findall(pattern, text)\n",
        "\n",
        "for i in matches:\n",
        "    print(\"Match:\", i)"
      ],
      "metadata": {
        "colab": {
          "base_uri": "https://localhost:8080/"
        },
        "id": "ULqa_3FS3AlG",
        "outputId": "cb18f89a-e0cb-4629-a15e-deba0a266331"
      },
      "execution_count": 19,
      "outputs": [
        {
          "output_type": "stream",
          "name": "stdout",
          "text": [
            "Match: T\n",
            "Match: T\n",
            "Match: A\n",
            "Match: C\n",
            "Match: H\n",
            "Match: P\n",
            "Match: P\n",
            "Match: P\n",
            "Match: A\n"
          ]
        }
      ]
    },
    {
      "cell_type": "code",
      "source": [
        "import re\n",
        "\n",
        "text = \"A total of 149 episodes of The Aesop for Children.\"\n",
        "pattern = r\"[0-9]\"\n",
        "matches = re.findall(pattern, text)\n",
        "\n",
        "for i in matches:\n",
        "    print(\"Match:\", i)"
      ],
      "metadata": {
        "colab": {
          "base_uri": "https://localhost:8080/"
        },
        "id": "19uObpWx3Ktc",
        "outputId": "9417014e-3cdc-49cd-a8a5-2d5d19da440c"
      },
      "execution_count": 20,
      "outputs": [
        {
          "output_type": "stream",
          "name": "stdout",
          "text": [
            "Match: 1\n",
            "Match: 4\n",
            "Match: 9\n"
          ]
        }
      ]
    },
    {
      "cell_type": "code",
      "source": [
        "import re\n",
        "\n",
        "text = \"In mathematics, 3.14 is a decimal approximation of the mathematical constant π (pi).\"\n",
        "pattern = r\"[0-9]\"\n",
        "matches = re.findall(pattern, text)\n",
        "\n",
        "for i in matches:\n",
        "    print(\"Match:\", i)"
      ],
      "metadata": {
        "colab": {
          "base_uri": "https://localhost:8080/"
        },
        "id": "jVBnoiSe3M0p",
        "outputId": "f0d05921-6ece-470a-9a7f-6189cafba934"
      },
      "execution_count": 21,
      "outputs": [
        {
          "output_type": "stream",
          "name": "stdout",
          "text": [
            "Match: 3\n",
            "Match: 1\n",
            "Match: 4\n"
          ]
        }
      ]
    },
    {
      "cell_type": "code",
      "source": [
        "import re\n",
        "\n",
        "text = \"24 Hours a Day, 7 Days a Week, & 365 Days a Year!\"\n",
        "pattern = r\"[a-zA-Z0-9]\"\n",
        "matches = re.findall(pattern, text)\n",
        "\n",
        "for i in matches:\n",
        "    print(\"Match:\", i)"
      ],
      "metadata": {
        "colab": {
          "base_uri": "https://localhost:8080/"
        },
        "id": "myCOheQW3QpX",
        "outputId": "f057e43f-8945-4e35-b0e1-fe74d7617078"
      },
      "execution_count": 22,
      "outputs": [
        {
          "output_type": "stream",
          "name": "stdout",
          "text": [
            "Match: 2\n",
            "Match: 4\n",
            "Match: H\n",
            "Match: o\n",
            "Match: u\n",
            "Match: r\n",
            "Match: s\n",
            "Match: a\n",
            "Match: D\n",
            "Match: a\n",
            "Match: y\n",
            "Match: 7\n",
            "Match: D\n",
            "Match: a\n",
            "Match: y\n",
            "Match: s\n",
            "Match: a\n",
            "Match: W\n",
            "Match: e\n",
            "Match: e\n",
            "Match: k\n",
            "Match: 3\n",
            "Match: 6\n",
            "Match: 5\n",
            "Match: D\n",
            "Match: a\n",
            "Match: y\n",
            "Match: s\n",
            "Match: a\n",
            "Match: Y\n",
            "Match: e\n",
            "Match: a\n",
            "Match: r\n"
          ]
        }
      ]
    },
    {
      "cell_type": "code",
      "source": [
        "import re\n",
        "\n",
        "text = \"24 Hours a Day,\\n7 Days a Week,\\n & \\t 365 Days a Year!\"\n",
        "\n",
        "pattern = r\"[^a-zA-Z0-9]\"\n",
        "matches = re.findall(pattern, text)\n",
        "\n",
        "for i in matches:\n",
        "    print(\"Match:\", i)"
      ],
      "metadata": {
        "colab": {
          "base_uri": "https://localhost:8080/"
        },
        "id": "QVcY1OVl3UnW",
        "outputId": "b3902cb3-ffc9-4d11-c52d-d27995dff600"
      },
      "execution_count": 23,
      "outputs": [
        {
          "output_type": "stream",
          "name": "stdout",
          "text": [
            "Match:  \n",
            "Match:  \n",
            "Match:  \n",
            "Match: ,\n",
            "Match: \n",
            "\n",
            "Match:  \n",
            "Match:  \n",
            "Match:  \n",
            "Match: ,\n",
            "Match: \n",
            "\n",
            "Match:  \n",
            "Match: &\n",
            "Match:  \n",
            "Match: \t\n",
            "Match:  \n",
            "Match:  \n",
            "Match:  \n",
            "Match:  \n",
            "Match: !\n"
          ]
        }
      ]
    },
    {
      "cell_type": "code",
      "source": [
        "import re\n",
        "\n",
        "text = \"The color can be either red, green, or blue.\"\n",
        "pattern = r\"(red|blue)\"\n",
        "\n",
        "matches = re.findall(pattern, text)\n",
        "\n",
        "for i in matches:\n",
        "    print(\"Match:\", i)"
      ],
      "metadata": {
        "colab": {
          "base_uri": "https://localhost:8080/"
        },
        "id": "d78vWksA3aCS",
        "outputId": "cdfe58fd-7282-4ea2-f60f-087b0ce1ee54"
      },
      "execution_count": 24,
      "outputs": [
        {
          "output_type": "stream",
          "name": "stdout",
          "text": [
            "Match: red\n",
            "Match: blue\n"
          ]
        }
      ]
    },
    {
      "cell_type": "code",
      "source": [
        "import re\n",
        "\n",
        "text = \"It cost me $715.45 and more.\"\n",
        "\n",
        "pattern1 = r\"more.$\"\n",
        "\n",
        "matches1 = re.findall(pattern1, text)\n",
        "\n",
        "for i in matches1:\n",
        "  print(\"Match1:\", i)\n",
        "\n",
        "\n",
        "pattern2 = r\"\\$*7\"\n",
        "\n",
        "matches2 = re.findall(pattern2, text)\n",
        "\n",
        "for i in matches2:\n",
        "  print(\"Match2\", i)"
      ],
      "metadata": {
        "colab": {
          "base_uri": "https://localhost:8080/"
        },
        "id": "3_tGNEi13eH_",
        "outputId": "949cb1a7-74c9-4a68-cc40-74ce70507afc"
      },
      "execution_count": 25,
      "outputs": [
        {
          "output_type": "stream",
          "name": "stdout",
          "text": [
            "Match1: more.\n",
            "Match2 $7\n"
          ]
        }
      ]
    }
  ]
}