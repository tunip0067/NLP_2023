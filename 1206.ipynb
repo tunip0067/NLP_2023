{
  "nbformat": 4,
  "nbformat_minor": 0,
  "metadata": {
    "colab": {
      "provenance": [],
      "authorship_tag": "ABX9TyN6JXtoxyLZQlyKr6JJdbKe",
      "include_colab_link": true
    },
    "kernelspec": {
      "name": "python3",
      "display_name": "Python 3"
    },
    "language_info": {
      "name": "python"
    }
  },
  "cells": [
    {
      "cell_type": "markdown",
      "metadata": {
        "id": "view-in-github",
        "colab_type": "text"
      },
      "source": [
        "<a href=\"https://colab.research.google.com/github/tunip0067/NLP_2023/blob/main/1206.ipynb\" target=\"_parent\"><img src=\"https://colab.research.google.com/assets/colab-badge.svg\" alt=\"Open In Colab\"/></a>"
      ]
    },
    {
      "cell_type": "code",
      "execution_count": 1,
      "metadata": {
        "colab": {
          "base_uri": "https://localhost:8080/"
        },
        "id": "aW7k3wWXUfUh",
        "outputId": "3e817876-d574-4f95-ac3c-8a4415f352de"
      },
      "outputs": [
        {
          "output_type": "stream",
          "name": "stdout",
          "text": [
            "Requirement already satisfied: nltk in /usr/local/lib/python3.10/dist-packages (3.8.1)\n",
            "Requirement already satisfied: click in /usr/local/lib/python3.10/dist-packages (from nltk) (8.1.7)\n",
            "Requirement already satisfied: joblib in /usr/local/lib/python3.10/dist-packages (from nltk) (1.3.2)\n",
            "Requirement already satisfied: regex>=2021.8.3 in /usr/local/lib/python3.10/dist-packages (from nltk) (2023.6.3)\n",
            "Requirement already satisfied: tqdm in /usr/local/lib/python3.10/dist-packages (from nltk) (4.66.1)\n"
          ]
        },
        {
          "output_type": "stream",
          "name": "stderr",
          "text": [
            "[nltk_data] Downloading package punkt to /root/nltk_data...\n",
            "[nltk_data]   Unzipping tokenizers/punkt.zip.\n"
          ]
        },
        {
          "output_type": "execute_result",
          "data": {
            "text/plain": [
              "True"
            ]
          },
          "metadata": {},
          "execution_count": 1
        }
      ],
      "source": [
        "!pip install nltk\n",
        "import nltk\n",
        "nltk.download('punkt')"
      ]
    },
    {
      "cell_type": "code",
      "source": [
        "message = \"I'm actively looking for Ph.D. students, \\\n",
        "and you are a Ph.D student. \\\n",
        "Visit IP 192.168.56.31 \\\n",
        "and send the results to my email account. \\\n",
        "It's python@gmail.com.\"\n",
        "\n",
        "from nltk.tokenize import sent_tokenize\n",
        "sentence = sent_tokenize(message)\n",
        "print('문장 토큰화: %s' %sentence)"
      ],
      "metadata": {
        "colab": {
          "base_uri": "https://localhost:8080/"
        },
        "id": "RZ_RhZ4CUput",
        "outputId": "2de16cd1-200b-493b-aa39-f3b38b86fa1b"
      },
      "execution_count": 2,
      "outputs": [
        {
          "output_type": "stream",
          "name": "stdout",
          "text": [
            "문장 토큰화: [\"I'm actively looking for Ph.D. students, and you are a Ph.D student.\", 'Visit IP 192.168.56.31 and send the results to my email account.', \"It's python@gmail.com.\"]\n"
          ]
        }
      ]
    },
    {
      "cell_type": "code",
      "source": [
        "text = 'Here’s to the crazy ones, the misfits, the rebels, the troublemakers, the round pegs in the square holes. \\\n",
        "The ones who see things differently — they’re not fond of rules. \\\n",
        "I wanted to pay with a twenty-dolloar bill; however, she couldn’t get cash. \\\n",
        "I like Brown’s East back pack,\\\n",
        "I’ve got a big trouble, but other people were having lots of fun. \\\n",
        "Anna likes Brown’s East back pack,\\\n",
        "but her brother doesn’t.'\n",
        "\n",
        "from nltk.tokenize import sent_tokenize\n",
        "sentence = sent_tokenize(text)\n",
        "print('문장 토큰화: %s' %sentence)"
      ],
      "metadata": {
        "colab": {
          "base_uri": "https://localhost:8080/"
        },
        "id": "W5igcrLYUtyZ",
        "outputId": "55e4147a-27fd-4ba0-c3e5-8b1564ee19f5"
      },
      "execution_count": 3,
      "outputs": [
        {
          "output_type": "stream",
          "name": "stdout",
          "text": [
            "문장 토큰화: ['Here’s to the crazy ones, the misfits, the rebels, the troublemakers, the round pegs in the square holes.', 'The ones who see things differently — they’re not fond of rules.', 'I wanted to pay with a twenty-dolloar bill; however, she couldn’t get cash.', 'I like Brown’s East back pack,I’ve got a big trouble, but other people were having lots of fun.', 'Anna likes Brown’s East back pack,but her brother doesn’t.']\n"
          ]
        }
      ]
    },
    {
      "cell_type": "code",
      "source": [
        "text= open('/content/sample_data/exercise/text_symbol_sample.txt')"
      ],
      "metadata": {
        "id": "xb7ktQ98VSSo"
      },
      "execution_count": 4,
      "outputs": []
    },
    {
      "cell_type": "code",
      "source": [
        "text = open('/content/sample_data/exercise/text_symbol_sample.txt','rt')"
      ],
      "metadata": {
        "id": "RCJyR6VKVt-N"
      },
      "execution_count": 5,
      "outputs": []
    },
    {
      "cell_type": "code",
      "source": [
        "temp = text.read()\n",
        "print(temp)"
      ],
      "metadata": {
        "colab": {
          "base_uri": "https://localhost:8080/"
        },
        "id": "yx6tlrdHVwed",
        "outputId": "770ff4ff-a1e2-4cde-dcea-357c4af6747a"
      },
      "execution_count": 6,
      "outputs": [
        {
          "output_type": "stream",
          "name": "stdout",
          "text": [
            "Here’s to the crazy ones, the misfits, the rebels, the troublemakers, the round pegs in the square holes.\n",
            "The ones who see things differently — they’re not fond of rules. \n",
            "I wanted to pay with a twenti-dolloar bill; \n",
            "however, she couldn’t get cash. \n",
            "I’ve got a big trouble, but other people were having lots of fun. \n",
            "Anna likes Brown’s East back pack,\n",
            "but her brother doesn’t.\n"
          ]
        }
      ]
    },
    {
      "cell_type": "code",
      "source": [
        "obj = temp.replace(\"\\n\", \" \")"
      ],
      "metadata": {
        "id": "V6ssxuPkV_mU"
      },
      "execution_count": 7,
      "outputs": []
    },
    {
      "cell_type": "code",
      "source": [
        "print(obj)"
      ],
      "metadata": {
        "id": "4B7F3siFWERl",
        "outputId": "5e144bfb-b274-4332-d0d5-b5705ec687c8",
        "colab": {
          "base_uri": "https://localhost:8080/"
        }
      },
      "execution_count": 8,
      "outputs": [
        {
          "output_type": "stream",
          "name": "stdout",
          "text": [
            "Here’s to the crazy ones, the misfits, the rebels, the troublemakers, the round pegs in the square holes. The ones who see things differently — they’re not fond of rules.  I wanted to pay with a twenti-dolloar bill;  however, she couldn’t get cash.  I’ve got a big trouble, but other people were having lots of fun.  Anna likes Brown’s East back pack, but her brother doesn’t.\n"
          ]
        }
      ]
    }
  ]
}