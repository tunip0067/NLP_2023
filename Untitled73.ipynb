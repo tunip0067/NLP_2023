{
  "nbformat": 4,
  "nbformat_minor": 0,
  "metadata": {
    "colab": {
      "provenance": [],
      "authorship_tag": "ABX9TyOXWOfwexS4KpHI3hboXq4M",
      "include_colab_link": true
    },
    "kernelspec": {
      "name": "python3",
      "display_name": "Python 3"
    },
    "language_info": {
      "name": "python"
    }
  },
  "cells": [
    {
      "cell_type": "markdown",
      "metadata": {
        "id": "view-in-github",
        "colab_type": "text"
      },
      "source": [
        "<a href=\"https://colab.research.google.com/github/tunip0067/NLP_2023/blob/main/Untitled73.ipynb\" target=\"_parent\"><img src=\"https://colab.research.google.com/assets/colab-badge.svg\" alt=\"Open In Colab\"/></a>"
      ]
    },
    {
      "cell_type": "code",
      "execution_count": 1,
      "metadata": {
        "colab": {
          "base_uri": "https://localhost:8080/",
          "height": 394
        },
        "id": "nwtfvBOkICPw",
        "outputId": "99f3c101-b467-45b1-f56e-afcacd83ffb0"
      },
      "outputs": [
        {
          "output_type": "error",
          "ename": "ModuleNotFoundError",
          "evalue": "No module named 'gtts'",
          "traceback": [
            "\u001b[0;31m---------------------------------------------------------------------------\u001b[0m",
            "\u001b[0;31mModuleNotFoundError\u001b[0m                       Traceback (most recent call last)",
            "\u001b[0;32m<ipython-input-1-2b0cc6b54958>\u001b[0m in \u001b[0;36m<cell line: 1>\u001b[0;34m()\u001b[0m\n\u001b[0;32m----> 1\u001b[0;31m \u001b[0;32mfrom\u001b[0m \u001b[0mgtts\u001b[0m \u001b[0;32mimport\u001b[0m \u001b[0mgTTS\u001b[0m\u001b[0;34m\u001b[0m\u001b[0;34m\u001b[0m\u001b[0m\n\u001b[0m\u001b[1;32m      2\u001b[0m \u001b[0;32mfrom\u001b[0m \u001b[0mpydub\u001b[0m \u001b[0;32mimport\u001b[0m \u001b[0mAudioSegment\u001b[0m\u001b[0;34m\u001b[0m\u001b[0;34m\u001b[0m\u001b[0m\n\u001b[1;32m      3\u001b[0m \u001b[0;32mfrom\u001b[0m \u001b[0mpydub\u001b[0m\u001b[0;34m.\u001b[0m\u001b[0mplayback\u001b[0m \u001b[0;32mimport\u001b[0m \u001b[0mplay\u001b[0m\u001b[0;34m\u001b[0m\u001b[0;34m\u001b[0m\u001b[0m\n\u001b[1;32m      4\u001b[0m \u001b[0;32mimport\u001b[0m \u001b[0mrandom\u001b[0m\u001b[0;34m,\u001b[0m \u001b[0mos\u001b[0m\u001b[0;34m\u001b[0m\u001b[0;34m\u001b[0m\u001b[0m\n\u001b[1;32m      5\u001b[0m \u001b[0;34m\u001b[0m\u001b[0m\n",
            "\u001b[0;31mModuleNotFoundError\u001b[0m: No module named 'gtts'",
            "",
            "\u001b[0;31m---------------------------------------------------------------------------\u001b[0;32m\nNOTE: If your import is failing due to a missing package, you can\nmanually install dependencies using either !pip or !apt.\n\nTo view examples of installing some common dependencies, click the\n\"Open Examples\" button below.\n\u001b[0;31m---------------------------------------------------------------------------\u001b[0m\n"
          ],
          "errorDetails": {
            "actions": [
              {
                "action": "open_url",
                "actionText": "Open Examples",
                "url": "/notebooks/snippets/importing_libraries.ipynb"
              }
            ]
          }
        }
      ],
      "source": [
        "from gtts import gTTS\n",
        "from pydub import AudioSegment\n",
        "from pydub.playback import play\n",
        "import random, os\n",
        "\n",
        "os.makedirs('samples', exist_ok=True)\n",
        "os.makedirs('result', exist_ok=True)\n",
        "\n",
        "string = '안녕하세요 너굴 상회입니다'\n",
        "random_factor = 0.35\n",
        "\n",
        "result_sound = None\n",
        "\n",
        "for i, letter in enumerate(string):\n",
        "    if letter == ' ':\n",
        "        new_sound = letter_sound._spawn(b'\\x00' * (44100 // 3), overrides={'frame_rate': 44100})\n",
        "        new_sound = new_sound.set_frame_rate(44100)\n",
        "    else:\n",
        "        if not os.path.isfile('samples/%s.mp3' % letter):\n",
        "            tts = gTTS(letter, lang='ko')\n",
        "            tts.save('samples/%s.mp3' % letter)\n",
        "\n",
        "        letter_sound = AudioSegment.from_mp3('samples/%s.mp3' % letter)\n",
        "\n",
        "        raw = letter_sound.raw_data[5000:-5000]\n",
        "\n",
        "        octaves = 2.0 + random.random() * random_factor\n",
        "        frame_rate = int(letter_sound.frame_rate * (2.0 ** octaves))\n",
        "        print('%s - octaves: %.2f, fr: %.d' % (letter, octaves, frame_rate))\n",
        "\n",
        "        new_sound = letter_sound._spawn(raw, overrides={'frame_rate': frame_rate})\n",
        "        new_sound = new_sound.set_frame_rate(44100)\n",
        "\n",
        "    result_sound = new_sound if result_sound is None else result_sound + new_sound\n",
        "\n",
        "play(result_sound)\n",
        "result_sound.export('result/%s.mp3' % string, format='mp3')"
      ]
    }
  ]
}