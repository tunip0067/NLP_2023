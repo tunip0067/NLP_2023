{
  "nbformat": 4,
  "nbformat_minor": 0,
  "metadata": {
    "colab": {
      "provenance": [],
      "authorship_tag": "ABX9TyM/UqAYd5VYMpv30gcSM8L/",
      "include_colab_link": true
    },
    "kernelspec": {
      "name": "python3",
      "display_name": "Python 3"
    },
    "language_info": {
      "name": "python"
    }
  },
  "cells": [
    {
      "cell_type": "markdown",
      "metadata": {
        "id": "view-in-github",
        "colab_type": "text"
      },
      "source": [
        "<a href=\"https://colab.research.google.com/github/tunip0067/NLP_2023/blob/main/1117.ipynb\" target=\"_parent\"><img src=\"https://colab.research.google.com/assets/colab-badge.svg\" alt=\"Open In Colab\"/></a>"
      ]
    },
    {
      "cell_type": "code",
      "execution_count": 1,
      "metadata": {
        "id": "DKSis3HEuodP"
      },
      "outputs": [],
      "source": [
        "def add_txt(t1,t2):\n",
        "  print (t1 + t2)\n",
        "\n",
        "def add_txt(t1, t2):\n",
        "    result = t1 + t2\n",
        "    return result"
      ]
    },
    {
      "cell_type": "code",
      "source": [
        "def add_txt(t1, t2):\n",
        "    result = t1 + t2\n",
        "    return result\n",
        "\n",
        "text1 = \"나는 꿈꾸었네, \"\n",
        "text2 = \"천지 만물이 노래하며 깨어나는 영원의 순간을!\"\n",
        "\n",
        "combined_text = add_txt(text1, text2)\n",
        "print(combined_text)"
      ],
      "metadata": {
        "colab": {
          "base_uri": "https://localhost:8080/"
        },
        "id": "r4Ex93D1u5WN",
        "outputId": "07c0c376-89b0-46eb-fff9-c32130dee126"
      },
      "execution_count": 2,
      "outputs": [
        {
          "output_type": "stream",
          "name": "stdout",
          "text": [
            "나는 꿈꾸었네, 천지 만물이 노래하며 깨어나는 영원의 순간을!\n"
          ]
        }
      ]
    },
    {
      "cell_type": "code",
      "source": [
        "def add_number(n1,n2):\n",
        "  print(n1 + n2)\n",
        "\n",
        "def add_number(n1,n2):\n",
        "  result = n1 + n2\n",
        "  return result"
      ],
      "metadata": {
        "id": "rBKetABSvWq-"
      },
      "execution_count": 3,
      "outputs": []
    },
    {
      "cell_type": "code",
      "source": [
        "name = \"Alice\"\n",
        "score = 95\n",
        "age = 18\n",
        "\n",
        "\n",
        "test_result = \"You scored %d on the test.\" % score\n",
        "print(test_result)\n",
        "\n",
        "greeting = \"Hello, %s! You turn to %d years old finally.\" % (name, age)\n",
        "print(greeting)\n",
        "\n",
        "\n",
        "\n",
        "print(\"You scored %d on the test.\" %score)\n",
        "print(\"Hello, %s! You turn to %d years old finally.\" %(name, age))"
      ],
      "metadata": {
        "colab": {
          "base_uri": "https://localhost:8080/"
        },
        "id": "7ZliTml2vfJC",
        "outputId": "750a83e0-f929-4bb2-d3e7-aabc45ff3334"
      },
      "execution_count": 4,
      "outputs": [
        {
          "output_type": "stream",
          "name": "stdout",
          "text": [
            "You scored 95 on the test.\n",
            "Hello, Alice! You turn to 18 years old finally.\n",
            "You scored 95 on the test.\n",
            "Hello, Alice! You turn to 18 years old finally.\n"
          ]
        }
      ]
    },
    {
      "cell_type": "code",
      "source": [
        "def add(a, b):\n",
        "    result = a + b\n",
        "    return result\n",
        "\n",
        "num1 = 236263753847\n",
        "num2 = 9178\n",
        "\n",
        "sum_result = add(num1, num2)\n",
        "\n",
        "print(\"The sum of %d and %d is %d\" % (num1, num2, sum_result))"
      ],
      "metadata": {
        "colab": {
          "base_uri": "https://localhost:8080/"
        },
        "id": "lIhBKfRgvktS",
        "outputId": "9d7267d1-d14a-4064-cf35-95c17bda2cef"
      },
      "execution_count": 6,
      "outputs": [
        {
          "output_type": "stream",
          "name": "stdout",
          "text": [
            "The sum of 236263753847 and 9178 is 236263763025\n"
          ]
        }
      ]
    },
    {
      "cell_type": "code",
      "source": [
        "def add_and_print(a, b):\n",
        "    result = a + b\n",
        "    print(\"The sum of %d and %d is %d\" % (a, b, result))\n",
        "    return result\n",
        "\n",
        "sum_result = add_and_print(3, 4)"
      ],
      "metadata": {
        "colab": {
          "base_uri": "https://localhost:8080/"
        },
        "id": "RkcsBkZxvuca",
        "outputId": "4d85e79c-8375-4800-c90c-97c2d8f5d4eb"
      },
      "execution_count": 7,
      "outputs": [
        {
          "output_type": "stream",
          "name": "stdout",
          "text": [
            "The sum of 3 and 4 is 7\n"
          ]
        }
      ]
    },
    {
      "cell_type": "code",
      "source": [
        "def func_uncertain(*args):\n",
        "  print(args)\n",
        "\n",
        "func_uncertain()\n",
        "\n",
        "func_uncertain(1, 2, 3)\n",
        "func_uncertain('apple', 'banana', 'cherry', 'date')\n",
        "func_uncertain(True)"
      ],
      "metadata": {
        "colab": {
          "base_uri": "https://localhost:8080/"
        },
        "id": "9HRF7NCSvy4g",
        "outputId": "d1ecefd7-20fa-4f32-ce2e-6e8191452fe1"
      },
      "execution_count": 8,
      "outputs": [
        {
          "output_type": "stream",
          "name": "stdout",
          "text": [
            "()\n",
            "(1, 2, 3)\n",
            "('apple', 'banana', 'cherry', 'date')\n",
            "(True,)\n"
          ]
        }
      ]
    }
  ]
}